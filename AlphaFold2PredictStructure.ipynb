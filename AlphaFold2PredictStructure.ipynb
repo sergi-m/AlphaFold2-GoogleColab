{
  "nbformat": 4,
  "nbformat_minor": 0,
  "metadata": {
    "accelerator": "GPU",
    "colab": {
      "name": "AlphaFold2PredictStructure.ipynb",
      "provenance": [],
      "collapsed_sections": [],
      "machine_shape": "hm",
      "include_colab_link": true
    },
    "kernelspec": {
      "display_name": "Python 3",
      "name": "python3"
    },
    "language_info": {
      "name": "python"
    },
    "widgets": {
      "application/vnd.jupyter.widget-state+json": {
        "01c6c2df61094a368bbd85e9e0ee4001": {
          "model_module": "@jupyter-widgets/controls",
          "model_name": "VBoxModel",
          "state": {
            "_view_name": "VBoxView",
            "_dom_classes": [
              "widget-interact"
            ],
            "_model_name": "VBoxModel",
            "_view_module": "@jupyter-widgets/controls",
            "_model_module_version": "1.5.0",
            "_view_count": null,
            "_view_module_version": "1.5.0",
            "box_style": "",
            "layout": "IPY_MODEL_136eb7806cd548f6b9eaef7d01e570a9",
            "_model_module": "@jupyter-widgets/controls",
            "children": [
              "IPY_MODEL_7ffbcb640d4c422eaf359b5ea5b49048",
              "IPY_MODEL_ad77a18b7f814387ad5bc4125330ddc3",
              "IPY_MODEL_31c4ca600ed54a178b1354fabd3f9f8a",
              "IPY_MODEL_fcf2213e901e441c941f3be321b9620b",
              "IPY_MODEL_9da6281759f1490ca545ac2c2189df46"
            ]
          }
        },
        "136eb7806cd548f6b9eaef7d01e570a9": {
          "model_module": "@jupyter-widgets/base",
          "model_name": "LayoutModel",
          "state": {
            "_view_name": "LayoutView",
            "grid_template_rows": null,
            "right": null,
            "justify_content": null,
            "_view_module": "@jupyter-widgets/base",
            "overflow": null,
            "_model_module_version": "1.2.0",
            "_view_count": null,
            "flex_flow": null,
            "width": null,
            "min_width": null,
            "border": null,
            "align_items": null,
            "bottom": null,
            "_model_module": "@jupyter-widgets/base",
            "top": null,
            "grid_column": null,
            "overflow_y": null,
            "overflow_x": null,
            "grid_auto_flow": null,
            "grid_area": null,
            "grid_template_columns": null,
            "flex": null,
            "_model_name": "LayoutModel",
            "justify_items": null,
            "grid_row": null,
            "max_height": null,
            "align_content": null,
            "visibility": null,
            "align_self": null,
            "height": null,
            "min_height": null,
            "padding": null,
            "grid_auto_rows": null,
            "grid_gap": null,
            "max_width": null,
            "order": null,
            "_view_module_version": "1.2.0",
            "grid_template_areas": null,
            "object_position": null,
            "object_fit": null,
            "grid_auto_columns": null,
            "margin": null,
            "display": null,
            "left": null
          }
        },
        "7ffbcb640d4c422eaf359b5ea5b49048": {
          "model_module": "@jupyter-widgets/controls",
          "model_name": "DropdownModel",
          "state": {
            "_options_labels": [
              "model_1",
              "model_2",
              "model_3",
              "model_4",
              "model_5"
            ],
            "_view_name": "DropdownView",
            "style": "IPY_MODEL_7b43143030d64d228fa0ce05caf62ca4",
            "_dom_classes": [],
            "description": "model_name",
            "_model_name": "DropdownModel",
            "index": 0,
            "_view_module": "@jupyter-widgets/controls",
            "_model_module_version": "1.5.0",
            "_view_count": null,
            "disabled": false,
            "_view_module_version": "1.5.0",
            "description_tooltip": null,
            "_model_module": "@jupyter-widgets/controls",
            "layout": "IPY_MODEL_4ea197b471bb4bcbb30a58948c020493"
          }
        },
        "ad77a18b7f814387ad5bc4125330ddc3": {
          "model_module": "@jupyter-widgets/controls",
          "model_name": "CheckboxModel",
          "state": {
            "_view_name": "CheckboxView",
            "style": "IPY_MODEL_8d46c7e1c3af42eebcb44d0412f775da",
            "_dom_classes": [],
            "description": "show_sidechains",
            "_model_name": "CheckboxModel",
            "_view_module": "@jupyter-widgets/controls",
            "_model_module_version": "1.5.0",
            "value": false,
            "_view_count": null,
            "disabled": false,
            "_view_module_version": "1.5.0",
            "indent": true,
            "description_tooltip": null,
            "_model_module": "@jupyter-widgets/controls",
            "layout": "IPY_MODEL_e7283ecd53304977a0f208bbed5980f3"
          }
        },
        "31c4ca600ed54a178b1354fabd3f9f8a": {
          "model_module": "@jupyter-widgets/controls",
          "model_name": "CheckboxModel",
          "state": {
            "_view_name": "CheckboxView",
            "style": "IPY_MODEL_f3c969a5d00b41bf93fcb3c402a1225c",
            "_dom_classes": [],
            "description": "show_mainchain",
            "_model_name": "CheckboxModel",
            "_view_module": "@jupyter-widgets/controls",
            "_model_module_version": "1.5.0",
            "value": false,
            "_view_count": null,
            "disabled": false,
            "_view_module_version": "1.5.0",
            "indent": true,
            "description_tooltip": null,
            "_model_module": "@jupyter-widgets/controls",
            "layout": "IPY_MODEL_0371e886d0e947ccb410f6478bdc1176"
          }
        },
        "fcf2213e901e441c941f3be321b9620b": {
          "model_module": "@jupyter-widgets/controls",
          "model_name": "DropdownModel",
          "state": {
            "_options_labels": [
              "None",
              "rainbow",
              "lDDT"
            ],
            "_view_name": "DropdownView",
            "style": "IPY_MODEL_f550fedf28604b42ade79290f1bb2af2",
            "_dom_classes": [],
            "description": "color",
            "_model_name": "DropdownModel",
            "index": 2,
            "_view_module": "@jupyter-widgets/controls",
            "_model_module_version": "1.5.0",
            "_view_count": null,
            "disabled": false,
            "_view_module_version": "1.5.0",
            "description_tooltip": null,
            "_model_module": "@jupyter-widgets/controls",
            "layout": "IPY_MODEL_067d659251c84841b892770a017e52f9"
          }
        },
        "9da6281759f1490ca545ac2c2189df46": {
          "model_module": "@jupyter-widgets/output",
          "model_name": "OutputModel",
          "state": {
            "_view_name": "OutputView",
            "msg_id": "",
            "_dom_classes": [],
            "_model_name": "OutputModel",
            "outputs": [
              {
                "output_type": "display_data",
                "metadata": {
                  "tags": []
                },
                "application/3dmoljs_load.v0": "<div id=\"3dmolviewer_16267737060429387\"  style=\"position: relative; width: 640px; height: 480px\">\n        <p id=\"3dmolwarning_16267737060429387\" style=\"background-color:#ffcccc;color:black\">You appear to be running in JupyterLab (or JavaScript failed to load for some other reason).  You need to install the 3dmol extension: <br>\n        <tt>jupyter labextension install jupyterlab_3dmol</tt></p>\n        </div>\n<script>\n\nvar loadScriptAsync = function(uri){\n  return new Promise((resolve, reject) => {\n    var tag = document.createElement('script');\n    tag.src = uri;\n    tag.async = true;\n    tag.onload = () => {\n      resolve();\n    };\n  var firstScriptTag = document.getElementsByTagName('script')[0];\n  firstScriptTag.parentNode.insertBefore(tag, firstScriptTag);\n});\n};\n\nif(typeof $3Dmolpromise === 'undefined') {\n$3Dmolpromise = null;\n  $3Dmolpromise = loadScriptAsync('https://3dmol.org/build/3Dmol.js');\n}\n\nvar viewer_16267737060429387 = null;\nvar warn = document.getElementById(\"3dmolwarning_16267737060429387\");\nif(warn) {\n    warn.parentNode.removeChild(warn);\n}\n$3Dmolpromise.then(function() {\nviewer_16267737060429387 = $3Dmol.createViewer($(\"#3dmolviewer_16267737060429387\"),{backgroundColor:\"white\"});\nviewer_16267737060429387.zoomTo();\n\tviewer_16267737060429387.addModel(\"ATOM      1  N   MET A   1     -17.267   9.115  12.596  1.00  0.62           N  \\nATOM      2  CA  MET A   1     -16.732   9.584  11.321  1.00  0.62           C  \\nATOM      3  C   MET A   1     -15.447   8.845  10.965  1.00  0.62           C  \\nATOM      4  CB  MET A   1     -16.473  11.091  11.368  1.00  0.62           C  \\nATOM      5  O   MET A   1     -14.582   8.648  11.820  1.00  0.62           O  \\nATOM      6  CG  MET A   1     -17.738  11.929  11.450  1.00  0.62           C  \\nATOM      7  SD  MET A   1     -17.670  13.413  10.374  1.00  0.62           S  \\nATOM      8  CE  MET A   1     -18.542  14.610  11.424  1.00  0.62           C  \\nATOM      9  N   ALA A   2     -15.505   7.858  10.118  1.00  0.75           N  \\nATOM     10  CA  ALA A   2     -14.348   7.023   9.804  1.00  0.75           C  \\nATOM     11  C   ALA A   2     -13.202   7.861   9.244  1.00  0.75           C  \\nATOM     12  CB  ALA A   2     -14.736   5.927   8.814  1.00  0.75           C  \\nATOM     13  O   ALA A   2     -13.422   8.758   8.427  1.00  0.75           O  \\nATOM     14  N   LYS A   3     -12.173   7.991   9.993  1.00  0.90           N  \\nATOM     15  CA  LYS A   3     -10.962   8.708   9.602  1.00  0.90           C  \\nATOM     16  C   LYS A   3     -10.404   8.168   8.289  1.00  0.90           C  \\nATOM     17  CB  LYS A   3      -9.903   8.611  10.701  1.00  0.90           C  \\nATOM     18  O   LYS A   3     -10.451   6.962   8.037  1.00  0.90           O  \\nATOM     19  CG  LYS A   3      -8.775   9.623  10.565  1.00  0.90           C  \\nATOM     20  CD  LYS A   3      -7.847   9.592  11.772  1.00  0.90           C  \\nATOM     21  CE  LYS A   3      -6.707  10.591  11.629  1.00  0.90           C  \\nATOM     22  NZ  LYS A   3      -5.758  10.518  12.779  1.00  0.90           N  \\nATOM     23  N   THR A   4     -10.280   9.093   7.365  1.00  0.94           N  \\nATOM     24  CA  THR A   4      -9.704   8.701   6.084  1.00  0.94           C  \\nATOM     25  C   THR A   4      -8.249   9.149   5.985  1.00  0.94           C  \\nATOM     26  CB  THR A   4     -10.506   9.288   4.908  1.00  0.94           C  \\nATOM     27  O   THR A   4      -7.833  10.082   6.676  1.00  0.94           O  \\nATOM     28  CG2 THR A   4     -11.928   8.739   4.883  1.00  0.94           C  \\nATOM     29  OG1 THR A   4     -10.559  10.714   5.038  1.00  0.94           O  \\nATOM     30  N   ILE A   5      -7.485   8.271   5.286  1.00  0.95           N  \\nATOM     31  CA  ILE A   5      -6.082   8.606   5.066  1.00  0.95           C  \\nATOM     32  C   ILE A   5      -5.793   8.661   3.568  1.00  0.95           C  \\nATOM     33  CB  ILE A   5      -5.144   7.591   5.756  1.00  0.95           C  \\nATOM     34  O   ILE A   5      -6.455   7.985   2.776  1.00  0.95           O  \\nATOM     35  CG1 ILE A   5      -5.442   6.169   5.266  1.00  0.95           C  \\nATOM     36  CG2 ILE A   5      -5.274   7.683   7.279  1.00  0.95           C  \\nATOM     37  CD1 ILE A   5      -4.471   5.119   5.786  1.00  0.95           C  \\nATOM     38  N   LYS A   6      -4.933   9.597   3.305  1.00  0.97           N  \\nATOM     39  CA  LYS A   6      -4.483   9.735   1.923  1.00  0.97           C  \\nATOM     40  C   LYS A   6      -3.190   8.960   1.685  1.00  0.97           C  \\nATOM     41  CB  LYS A   6      -4.282  11.209   1.569  1.00  0.97           C  \\nATOM     42  O   LYS A   6      -2.207   9.147   2.405  1.00  0.97           O  \\nATOM     43  CG  LYS A   6      -5.573  11.955   1.268  1.00  0.97           C  \\nATOM     44  CD  LYS A   6      -5.299  13.364   0.757  1.00  0.97           C  \\nATOM     45  CE  LYS A   6      -6.590  14.147   0.553  1.00  0.97           C  \\nATOM     46  NZ  LYS A   6      -6.323  15.548   0.109  1.00  0.97           N  \\nATOM     47  N   ILE A   7      -3.230   8.117   0.655  1.00  0.97           N  \\nATOM     48  CA  ILE A   7      -2.078   7.281   0.337  1.00  0.97           C  \\nATOM     49  C   ILE A   7      -1.549   7.637  -1.051  1.00  0.97           C  \\nATOM     50  CB  ILE A   7      -2.434   5.779   0.405  1.00  0.97           C  \\nATOM     51  O   ILE A   7      -2.300   7.633  -2.029  1.00  0.97           O  \\nATOM     52  CG1 ILE A   7      -3.104   5.449   1.743  1.00  0.97           C  \\nATOM     53  CG2 ILE A   7      -1.185   4.918   0.191  1.00  0.97           C  \\nATOM     54  CD1 ILE A   7      -3.818   4.104   1.763  1.00  0.97           C  \\nATOM     55  N   THR A   8      -0.278   7.914  -1.118  1.00  0.98           N  \\nATOM     56  CA  THR A   8       0.374   8.250  -2.379  1.00  0.98           C  \\nATOM     57  C   THR A   8       1.532   7.297  -2.660  1.00  0.98           C  \\nATOM     58  CB  THR A   8       0.891   9.701  -2.370  1.00  0.98           C  \\nATOM     59  O   THR A   8       2.340   7.015  -1.773  1.00  0.98           O  \\nATOM     60  CG2 THR A   8       1.456  10.091  -3.732  1.00  0.98           C  \\nATOM     61  OG1 THR A   8      -0.188  10.585  -2.042  1.00  0.98           O  \\nATOM     62  N   GLN A   9       1.519   6.804  -3.830  1.00  0.98           N  \\nATOM     63  CA  GLN A   9       2.642   5.969  -4.243  1.00  0.98           C  \\nATOM     64  C   GLN A   9       3.865   6.818  -4.579  1.00  0.98           C  \\nATOM     65  CB  GLN A   9       2.257   5.106  -5.445  1.00  0.98           C  \\nATOM     66  O   GLN A   9       3.794   7.710  -5.427  1.00  0.98           O  \\nATOM     67  CG  GLN A   9       3.329   4.104  -5.852  1.00  0.98           C  \\nATOM     68  CD  GLN A   9       2.884   3.194  -6.981  1.00  0.98           C  \\nATOM     69  NE2 GLN A   9       3.627   2.114  -7.200  1.00  0.98           N  \\nATOM     70  OE1 GLN A   9       1.881   3.459  -7.651  1.00  0.98           O  \\nATOM     71  N   THR A  10       4.927   6.561  -4.016  1.00  0.97           N  \\nATOM     72  CA  THR A  10       6.120   7.382  -4.189  1.00  0.97           C  \\nATOM     73  C   THR A  10       7.185   6.627  -4.979  1.00  0.97           C  \\nATOM     74  CB  THR A  10       6.698   7.821  -2.831  1.00  0.97           C  \\nATOM     75  O   THR A  10       8.026   7.240  -5.640  1.00  0.97           O  \\nATOM     76  CG2 THR A  10       5.735   8.746  -2.096  1.00  0.97           C  \\nATOM     77  OG1 THR A  10       6.939   6.661  -2.024  1.00  0.97           O  \\nATOM     78  N   ARG A  11       7.105   5.350  -4.962  1.00  0.96           N  \\nATOM     79  CA  ARG A  11       8.085   4.527  -5.665  1.00  0.96           C  \\nATOM     80  C   ARG A  11       7.399   3.552  -6.617  1.00  0.96           C  \\nATOM     81  CB  ARG A  11       8.957   3.761  -4.669  1.00  0.96           C  \\nATOM     82  O   ARG A  11       6.225   3.221  -6.435  1.00  0.96           O  \\nATOM     83  CG  ARG A  11       9.848   4.651  -3.818  1.00  0.96           C  \\nATOM     84  CD  ARG A  11      10.841   3.838  -2.999  1.00  0.96           C  \\nATOM     85  NE  ARG A  11      11.759   4.698  -2.257  1.00  0.96           N  \\nATOM     86  NH1 ARG A  11      12.920   2.959  -1.274  1.00  0.96           N  \\nATOM     87  NH2 ARG A  11      13.504   5.130  -0.828  1.00  0.96           N  \\nATOM     88  CZ  ARG A  11      12.726   4.261  -1.455  1.00  0.96           C  \\nATOM     89  N   SER A  12       8.202   3.131  -7.578  1.00  0.96           N  \\nATOM     90  CA  SER A  12       7.666   2.250  -8.610  1.00  0.96           C  \\nATOM     91  C   SER A  12       7.516   0.823  -8.095  1.00  0.96           C  \\nATOM     92  CB  SER A  12       8.567   2.262  -9.847  1.00  0.96           C  \\nATOM     93  O   SER A  12       8.245   0.402  -7.194  1.00  0.96           O  \\nATOM     94  OG  SER A  12       8.136   1.298 -10.792  1.00  0.96           O  \\nATOM     95  N   ALA A  13       6.536   0.098  -8.717  1.00  0.94           N  \\nATOM     96  CA  ALA A  13       6.306  -1.305  -8.384  1.00  0.94           C  \\nATOM     97  C   ALA A  13       7.261  -2.214  -9.152  1.00  0.94           C  \\nATOM     98  CB  ALA A  13       4.858  -1.691  -8.676  1.00  0.94           C  \\nATOM     99  O   ALA A  13       7.347  -3.412  -8.873  1.00  0.94           O  \\nATOM    100  N   ILE A  14       8.073  -1.662 -10.007  1.00  0.95           N  \\nATOM    101  CA  ILE A  14       8.947  -2.453 -10.866  1.00  0.95           C  \\nATOM    102  C   ILE A  14      10.057  -3.087 -10.031  1.00  0.95           C  \\nATOM    103  CB  ILE A  14       9.552  -1.595 -12.000  1.00  0.95           C  \\nATOM    104  O   ILE A  14      10.696  -2.411  -9.221  1.00  0.95           O  \\nATOM    105  CG1 ILE A  14       8.447  -1.080 -12.928  1.00  0.95           C  \\nATOM    106  CG2 ILE A  14      10.597  -2.394 -12.783  1.00  0.95           C  \\nATOM    107  CD1 ILE A  14       8.905   0.003 -13.896  1.00  0.95           C  \\nATOM    108  N   GLY A  15      10.225  -4.430 -10.199  1.00  0.95           N  \\nATOM    109  CA  GLY A  15      11.293  -5.144  -9.518  1.00  0.95           C  \\nATOM    110  C   GLY A  15      10.964  -5.474  -8.074  1.00  0.95           C  \\nATOM    111  O   GLY A  15      11.843  -5.870  -7.307  1.00  0.95           O  \\nATOM    112  N   ARG A  16       9.715  -5.192  -7.672  1.00  0.95           N  \\nATOM    113  CA  ARG A  16       9.320  -5.490  -6.299  1.00  0.95           C  \\nATOM    114  C   ARG A  16       8.689  -6.874  -6.199  1.00  0.95           C  \\nATOM    115  CB  ARG A  16       8.346  -4.431  -5.777  1.00  0.95           C  \\nATOM    116  O   ARG A  16       8.324  -7.471  -7.214  1.00  0.95           O  \\nATOM    117  CG  ARG A  16       8.941  -3.034  -5.696  1.00  0.95           C  \\nATOM    118  CD  ARG A  16      10.080  -2.964  -4.689  1.00  0.95           C  \\nATOM    119  NE  ARG A  16      10.647  -1.620  -4.608  1.00  0.95           N  \\nATOM    120  NH1 ARG A  16      12.785  -2.329  -4.093  1.00  0.95           N  \\nATOM    121  NH2 ARG A  16      12.328  -0.090  -4.280  1.00  0.95           N  \\nATOM    122  CZ  ARG A  16      11.918  -1.350  -4.327  1.00  0.95           C  \\nATOM    123  N   LEU A  17       8.627  -7.331  -5.027  1.00  0.96           N  \\nATOM    124  CA  LEU A  17       8.019  -8.633  -4.774  1.00  0.96           C  \\nATOM    125  C   LEU A  17       6.571  -8.658  -5.251  1.00  0.96           C  \\nATOM    126  CB  LEU A  17       8.083  -8.974  -3.283  1.00  0.96           C  \\nATOM    127  O   LEU A  17       5.881  -7.637  -5.210  1.00  0.96           O  \\nATOM    128  CG  LEU A  17       9.480  -9.153  -2.687  1.00  0.96           C  \\nATOM    129  CD1 LEU A  17       9.406  -9.192  -1.165  1.00  0.96           C  \\nATOM    130  CD2 LEU A  17      10.134 -10.419  -3.229  1.00  0.96           C  \\nATOM    131  N   PRO A  18       6.125  -9.793  -5.757  1.00  0.96           N  \\nATOM    132  CA  PRO A  18       4.744  -9.921  -6.228  1.00  0.96           C  \\nATOM    133  C   PRO A  18       3.719  -9.533  -5.165  1.00  0.96           C  \\nATOM    134  CB  PRO A  18       4.629 -11.406  -6.581  1.00  0.96           C  \\nATOM    135  O   PRO A  18       2.680  -8.951  -5.487  1.00  0.96           O  \\nATOM    136  CG  PRO A  18       6.027 -11.837  -6.884  1.00  0.96           C  \\nATOM    137  CD  PRO A  18       6.967 -11.048  -6.019  1.00  0.96           C  \\nATOM    138  N   LYS A  19       4.027  -9.835  -3.967  1.00  0.97           N  \\nATOM    139  CA  LYS A  19       3.118  -9.501  -2.873  1.00  0.97           C  \\nATOM    140  C   LYS A  19       2.965  -7.990  -2.728  1.00  0.97           C  \\nATOM    141  CB  LYS A  19       3.614 -10.106  -1.559  1.00  0.97           C  \\nATOM    142  O   LYS A  19       1.861  -7.492  -2.497  1.00  0.97           O  \\nATOM    143  CG  LYS A  19       3.440 -11.615  -1.468  1.00  0.97           C  \\nATOM    144  CD  LYS A  19       3.841 -12.142  -0.097  1.00  0.97           C  \\nATOM    145  CE  LYS A  19       3.677 -13.654  -0.008  1.00  0.97           C  \\nATOM    146  NZ  LYS A  19       4.086 -14.177   1.330  1.00  0.97           N  \\nATOM    147  N   HIS A  20       4.055  -7.272  -2.872  1.00  0.97           N  \\nATOM    148  CA  HIS A  20       4.003  -5.818  -2.763  1.00  0.97           C  \\nATOM    149  C   HIS A  20       3.211  -5.207  -3.914  1.00  0.97           C  \\nATOM    150  CB  HIS A  20       5.416  -5.233  -2.730  1.00  0.97           C  \\nATOM    151  O   HIS A  20       2.423  -4.281  -3.708  1.00  0.97           O  \\nATOM    152  CG  HIS A  20       6.169  -5.553  -1.477  1.00  0.97           C  \\nATOM    153  CD2 HIS A  20       5.751  -6.062  -0.295  1.00  0.97           C  \\nATOM    154  ND1 HIS A  20       7.525  -5.346  -1.351  1.00  0.97           N  \\nATOM    155  CE1 HIS A  20       7.910  -5.717  -0.141  1.00  0.97           C  \\nATOM    156  NE2 HIS A  20       6.853  -6.155   0.520  1.00  0.97           N  \\nATOM    157  N   LYS A  21       3.419  -5.795  -5.028  1.00  0.96           N  \\nATOM    158  CA  LYS A  21       2.679  -5.325  -6.196  1.00  0.96           C  \\nATOM    159  C   LYS A  21       1.177  -5.515  -6.008  1.00  0.96           C  \\nATOM    160  CB  LYS A  21       3.146  -6.055  -7.456  1.00  0.96           C  \\nATOM    161  O   LYS A  21       0.388  -4.626  -6.333  1.00  0.96           O  \\nATOM    162  CG  LYS A  21       4.572  -5.725  -7.871  1.00  0.96           C  \\nATOM    163  CD  LYS A  21       4.964  -6.449  -9.153  1.00  0.96           C  \\nATOM    164  CE  LYS A  21       6.422  -6.200  -9.513  1.00  0.96           C  \\nATOM    165  NZ  LYS A  21       6.814  -6.916 -10.764  1.00  0.96           N  \\nATOM    166  N   ALA A  22       0.827  -6.587  -5.450  1.00  0.97           N  \\nATOM    167  CA  ALA A  22      -0.580  -6.888  -5.201  1.00  0.97           C  \\nATOM    168  C   ALA A  22      -1.177  -5.918  -4.186  1.00  0.97           C  \\nATOM    169  CB  ALA A  22      -0.738  -8.327  -4.714  1.00  0.97           C  \\nATOM    170  O   ALA A  22      -2.324  -5.486  -4.330  1.00  0.97           O  \\nATOM    171  N   THR A  23      -0.330  -5.657  -3.214  1.00  0.97           N  \\nATOM    172  CA  THR A  23      -0.793  -4.718  -2.198  1.00  0.97           C  \\nATOM    173  C   THR A  23      -1.047  -3.343  -2.809  1.00  0.97           C  \\nATOM    174  CB  THR A  23       0.224  -4.592  -1.049  1.00  0.97           C  \\nATOM    175  O   THR A  23      -2.063  -2.707  -2.519  1.00  0.97           O  \\nATOM    176  CG2 THR A  23      -0.295  -3.667   0.047  1.00  0.97           C  \\nATOM    177  OG1 THR A  23       0.466  -5.889  -0.489  1.00  0.97           O  \\nATOM    178  N   LEU A  24      -0.161  -2.890  -3.651  1.00  0.97           N  \\nATOM    179  CA  LEU A  24      -0.338  -1.604  -4.318  1.00  0.97           C  \\nATOM    180  C   LEU A  24      -1.614  -1.596  -5.152  1.00  0.97           C  \\nATOM    181  CB  LEU A  24       0.869  -1.290  -5.206  1.00  0.97           C  \\nATOM    182  O   LEU A  24      -2.385  -0.635  -5.106  1.00  0.97           O  \\nATOM    183  CG  LEU A  24       2.173  -0.951  -4.483  1.00  0.97           C  \\nATOM    184  CD1 LEU A  24       3.294  -0.723  -5.492  1.00  0.97           C  \\nATOM    185  CD2 LEU A  24       1.989   0.273  -3.593  1.00  0.97           C  \\nATOM    186  N   LEU A  25      -1.857  -2.673  -5.822  1.00  0.96           N  \\nATOM    187  CA  LEU A  25      -3.072  -2.802  -6.618  1.00  0.96           C  \\nATOM    188  C   LEU A  25      -4.307  -2.834  -5.724  1.00  0.96           C  \\nATOM    189  CB  LEU A  25      -3.018  -4.066  -7.480  1.00  0.96           C  \\nATOM    190  O   LEU A  25      -5.324  -2.213  -6.040  1.00  0.96           O  \\nATOM    191  CG  LEU A  25      -2.031  -4.050  -8.647  1.00  0.96           C  \\nATOM    192  CD1 LEU A  25      -1.894  -5.445  -9.247  1.00  0.96           C  \\nATOM    193  CD2 LEU A  25      -2.473  -3.048  -9.708  1.00  0.96           C  \\nATOM    194  N   GLY A  26      -4.185  -3.612  -4.630  1.00  0.96           N  \\nATOM    195  CA  GLY A  26      -5.267  -3.690  -3.661  1.00  0.96           C  \\nATOM    196  C   GLY A  26      -5.625  -2.345  -3.056  1.00  0.96           C  \\nATOM    197  O   GLY A  26      -6.791  -2.085  -2.753  1.00  0.96           O  \\nATOM    198  N   LEU A  27      -4.596  -1.532  -2.907  1.00  0.95           N  \\nATOM    199  CA  LEU A  27      -4.836  -0.199  -2.364  1.00  0.95           C  \\nATOM    200  C   LEU A  27      -5.390   0.733  -3.436  1.00  0.95           C  \\nATOM    201  CB  LEU A  27      -3.545   0.383  -1.782  1.00  0.95           C  \\nATOM    202  O   LEU A  27      -5.934   1.794  -3.121  1.00  0.95           O  \\nATOM    203  CG  LEU A  27      -3.063  -0.221  -0.462  1.00  0.95           C  \\nATOM    204  CD1 LEU A  27      -1.637   0.229  -0.163  1.00  0.95           C  \\nATOM    205  CD2 LEU A  27      -4.001   0.165   0.677  1.00  0.95           C  \\nATOM    206  N   GLY A  28      -5.279   0.325  -4.666  1.00  0.96           N  \\nATOM    207  CA  GLY A  28      -5.773   1.117  -5.782  1.00  0.96           C  \\nATOM    208  C   GLY A  28      -4.728   2.054  -6.357  1.00  0.96           C  \\nATOM    209  O   GLY A  28      -5.066   3.060  -6.985  1.00  0.96           O  \\nATOM    210  N   LEU A  29      -3.515   1.784  -6.094  1.00  0.96           N  \\nATOM    211  CA  LEU A  29      -2.419   2.592  -6.618  1.00  0.96           C  \\nATOM    212  C   LEU A  29      -1.886   2.004  -7.920  1.00  0.96           C  \\nATOM    213  CB  LEU A  29      -1.290   2.695  -5.590  1.00  0.96           C  \\nATOM    214  O   LEU A  29      -1.490   0.837  -7.963  1.00  0.96           O  \\nATOM    215  CG  LEU A  29      -1.641   3.367  -4.262  1.00  0.96           C  \\nATOM    216  CD1 LEU A  29      -0.547   3.107  -3.231  1.00  0.96           C  \\nATOM    217  CD2 LEU A  29      -1.852   4.864  -4.459  1.00  0.96           C  \\nATOM    218  N   ARG A  30      -1.787   2.838  -9.009  1.00  0.94           N  \\nATOM    219  CA  ARG A  30      -1.482   2.297 -10.330  1.00  0.94           C  \\nATOM    220  C   ARG A  30      -0.168   2.860 -10.862  1.00  0.94           C  \\nATOM    221  CB  ARG A  30      -2.617   2.601 -11.310  1.00  0.94           C  \\nATOM    222  O   ARG A  30       0.526   2.200 -11.638  1.00  0.94           O  \\nATOM    223  CG  ARG A  30      -3.924   1.898 -10.977  1.00  0.94           C  \\nATOM    224  CD  ARG A  30      -4.979   2.131 -12.049  1.00  0.94           C  \\nATOM    225  NE  ARG A  30      -6.213   1.407 -11.757  1.00  0.94           N  \\nATOM    226  NH1 ARG A  30      -7.365   2.217 -13.588  1.00  0.94           N  \\nATOM    227  NH2 ARG A  30      -8.384   0.763 -12.138  1.00  0.94           N  \\nATOM    228  CZ  ARG A  30      -7.318   1.464 -12.495  1.00  0.94           C  \\nATOM    229  N   ARG A  31       0.106   4.086 -10.446  1.00  0.95           N  \\nATOM    230  CA  ARG A  31       1.321   4.732 -10.932  1.00  0.95           C  \\nATOM    231  C   ARG A  31       1.947   5.605  -9.849  1.00  0.95           C  \\nATOM    232  CB  ARG A  31       1.023   5.572 -12.175  1.00  0.95           C  \\nATOM    233  O   ARG A  31       1.307   5.904  -8.839  1.00  0.95           O  \\nATOM    234  CG  ARG A  31       0.029   6.698 -11.935  1.00  0.95           C  \\nATOM    235  CD  ARG A  31      -0.348   7.403 -13.230  1.00  0.95           C  \\nATOM    236  NE  ARG A  31      -1.216   8.552 -12.985  1.00  0.95           N  \\nATOM    237  NH1 ARG A  31      -3.179   7.334 -13.008  1.00  0.95           N  \\nATOM    238  NH2 ARG A  31      -3.234   9.599 -12.661  1.00  0.95           N  \\nATOM    239  CZ  ARG A  31      -2.541   8.492 -12.885  1.00  0.95           C  \\nATOM    240  N   ILE A  32       3.206   5.998 -10.054  1.00  0.97           N  \\nATOM    241  CA  ILE A  32       3.909   6.870  -9.119  1.00  0.97           C  \\nATOM    242  C   ILE A  32       3.216   8.229  -9.062  1.00  0.97           C  \\nATOM    243  CB  ILE A  32       5.393   7.040  -9.512  1.00  0.97           C  \\nATOM    244  O   ILE A  32       2.883   8.808 -10.099  1.00  0.97           O  \\nATOM    245  CG1 ILE A  32       6.130   5.699  -9.411  1.00  0.97           C  \\nATOM    246  CG2 ILE A  32       6.065   8.102  -8.636  1.00  0.97           C  \\nATOM    247  CD1 ILE A  32       7.556   5.735  -9.941  1.00  0.97           C  \\nATOM    248  N   GLY A  33       2.942   8.699  -7.806  1.00  0.96           N  \\nATOM    249  CA  GLY A  33       2.290   9.981  -7.590  1.00  0.96           C  \\nATOM    250  C   GLY A  33       0.781   9.872  -7.482  1.00  0.96           C  \\nATOM    251  O   GLY A  33       0.101  10.857  -7.183  1.00  0.96           O  \\nATOM    252  N   HIS A  34       0.305   8.724  -7.793  1.00  0.98           N  \\nATOM    253  CA  HIS A  34      -1.127   8.471  -7.672  1.00  0.98           C  \\nATOM    254  C   HIS A  34      -1.561   8.453  -6.211  1.00  0.98           C  \\nATOM    255  CB  HIS A  34      -1.497   7.149  -8.347  1.00  0.98           C  \\nATOM    256  O   HIS A  34      -0.943   7.780  -5.383  1.00  0.98           O  \\nATOM    257  CG  HIS A  34      -2.971   6.936  -8.481  1.00  0.98           C  \\nATOM    258  CD2 HIS A  34      -4.011   7.784  -8.305  1.00  0.98           C  \\nATOM    259  ND1 HIS A  34      -3.518   5.722  -8.835  1.00  0.98           N  \\nATOM    260  CE1 HIS A  34      -4.835   5.833  -8.872  1.00  0.98           C  \\nATOM    261  NE2 HIS A  34      -5.160   7.075  -8.555  1.00  0.98           N  \\nATOM    262  N   THR A  35      -2.610   9.135  -5.915  1.00  0.97           N  \\nATOM    263  CA  THR A  35      -3.098   9.260  -4.546  1.00  0.97           C  \\nATOM    264  C   THR A  35      -4.517   8.713  -4.425  1.00  0.97           C  \\nATOM    265  CB  THR A  35      -3.069  10.726  -4.075  1.00  0.97           C  \\nATOM    266  O   THR A  35      -5.350   8.934  -5.306  1.00  0.97           O  \\nATOM    267  CG2 THR A  35      -3.447  10.838  -2.602  1.00  0.97           C  \\nATOM    268  OG1 THR A  35      -1.749  11.255  -4.259  1.00  0.97           O  \\nATOM    269  N   VAL A  36      -4.735   8.008  -3.313  1.00  0.97           N  \\nATOM    270  CA  VAL A  36      -6.062   7.461  -3.051  1.00  0.97           C  \\nATOM    271  C   VAL A  36      -6.443   7.706  -1.593  1.00  0.97           C  \\nATOM    272  CB  VAL A  36      -6.126   5.951  -3.373  1.00  0.97           C  \\nATOM    273  O   VAL A  36      -5.572   7.826  -0.729  1.00  0.97           O  \\nATOM    274  CG1 VAL A  36      -5.911   5.707  -4.865  1.00  0.97           C  \\nATOM    275  CG2 VAL A  36      -5.093   5.186  -2.548  1.00  0.97           C  \\nATOM    276  N   GLU A  37      -7.730   7.942  -1.412  1.00  0.96           N  \\nATOM    277  CA  GLU A  37      -8.267   8.101  -0.064  1.00  0.96           C  \\nATOM    278  C   GLU A  37      -8.964   6.827   0.405  1.00  0.96           C  \\nATOM    279  CB  GLU A  37      -9.238   9.283  -0.007  1.00  0.96           C  \\nATOM    280  O   GLU A  37      -9.835   6.298  -0.288  1.00  0.96           O  \\nATOM    281  CG  GLU A  37      -8.572  10.636  -0.214  1.00  0.96           C  \\nATOM    282  CD  GLU A  37      -9.526  11.807  -0.039  1.00  0.96           C  \\nATOM    283  OE1 GLU A  37      -9.073  12.972  -0.097  1.00  0.96           O  \\nATOM    284  OE2 GLU A  37     -10.735  11.556   0.161  1.00  0.96           O  \\nATOM    285  N   ARG A  38      -8.497   6.384   1.605  1.00  0.94           N  \\nATOM    286  CA  ARG A  38      -9.061   5.160   2.163  1.00  0.94           C  \\nATOM    287  C   ARG A  38      -9.397   5.335   3.641  1.00  0.94           C  \\nATOM    288  CB  ARG A  38      -8.092   3.989   1.982  1.00  0.94           C  \\nATOM    289  O   ARG A  38      -8.863   6.228   4.302  1.00  0.94           O  \\nATOM    290  CG  ARG A  38      -7.850   3.610   0.529  1.00  0.94           C  \\nATOM    291  CD  ARG A  38      -9.062   2.921  -0.083  1.00  0.94           C  \\nATOM    292  NE  ARG A  38      -8.785   2.447  -1.436  1.00  0.94           N  \\nATOM    293  NH1 ARG A  38      -9.641   0.328  -1.090  1.00  0.94           N  \\nATOM    294  NH2 ARG A  38      -8.773   0.900  -3.133  1.00  0.94           N  \\nATOM    295  CZ  ARG A  38      -9.067   1.226  -1.883  1.00  0.94           C  \\nATOM    296  N   GLU A  39     -10.321   4.513   4.042  1.00  0.94           N  \\nATOM    297  CA  GLU A  39     -10.677   4.510   5.457  1.00  0.94           C  \\nATOM    298  C   GLU A  39      -9.549   3.936   6.309  1.00  0.94           C  \\nATOM    299  CB  GLU A  39     -11.966   3.717   5.686  1.00  0.94           C  \\nATOM    300  O   GLU A  39      -8.887   2.977   5.907  1.00  0.94           O  \\nATOM    301  CG  GLU A  39     -13.202   4.361   5.074  1.00  0.94           C  \\nATOM    302  CD  GLU A  39     -14.481   3.585   5.348  1.00  0.94           C  \\nATOM    303  OE1 GLU A  39     -15.572   4.056   4.954  1.00  0.94           O  \\nATOM    304  OE2 GLU A  39     -14.390   2.499   5.961  1.00  0.94           O  \\nATOM    305  N   ASP A  40      -9.339   4.576   7.413  1.00  0.93           N  \\nATOM    306  CA  ASP A  40      -8.279   4.121   8.307  1.00  0.93           C  \\nATOM    307  C   ASP A  40      -8.721   2.896   9.105  1.00  0.93           C  \\nATOM    308  CB  ASP A  40      -7.858   5.244   9.257  1.00  0.93           C  \\nATOM    309  O   ASP A  40      -9.186   3.023  10.240  1.00  0.93           O  \\nATOM    310  CG  ASP A  40      -6.599   4.918  10.040  1.00  0.93           C  \\nATOM    311  OD1 ASP A  40      -5.945   3.894   9.745  1.00  0.93           O  \\nATOM    312  OD2 ASP A  40      -6.259   5.690  10.963  1.00  0.93           O  \\nATOM    313  N   THR A  41      -8.624   1.731   8.424  1.00  0.94           N  \\nATOM    314  CA  THR A  41      -8.925   0.447   9.047  1.00  0.94           C  \\nATOM    315  C   THR A  41      -7.643  -0.334   9.324  1.00  0.94           C  \\nATOM    316  CB  THR A  41      -9.862  -0.397   8.164  1.00  0.94           C  \\nATOM    317  O   THR A  41      -6.600  -0.056   8.729  1.00  0.94           O  \\nATOM    318  CG2 THR A  41     -11.144   0.363   7.838  1.00  0.94           C  \\nATOM    319  OG1 THR A  41      -9.190  -0.725   6.941  1.00  0.94           O  \\nATOM    320  N   PRO A  42      -7.635  -1.191  10.346  1.00  0.95           N  \\nATOM    321  CA  PRO A  42      -6.448  -2.006  10.613  1.00  0.95           C  \\nATOM    322  C   PRO A  42      -5.990  -2.799   9.391  1.00  0.95           C  \\nATOM    323  CB  PRO A  42      -6.908  -2.943  11.732  1.00  0.95           C  \\nATOM    324  O   PRO A  42      -4.790  -3.015   9.205  1.00  0.95           O  \\nATOM    325  CG  PRO A  42      -8.036  -2.221  12.396  1.00  0.95           C  \\nATOM    326  CD  PRO A  42      -8.740  -1.386  11.365  1.00  0.95           C  \\nATOM    327  N   ALA A  43      -6.935  -3.173   8.599  1.00  0.95           N  \\nATOM    328  CA  ALA A  43      -6.598  -3.917   7.388  1.00  0.95           C  \\nATOM    329  C   ALA A  43      -5.789  -3.055   6.422  1.00  0.95           C  \\nATOM    330  CB  ALA A  43      -7.865  -4.428   6.707  1.00  0.95           C  \\nATOM    331  O   ALA A  43      -4.767  -3.498   5.893  1.00  0.95           O  \\nATOM    332  N   ILE A  44      -6.232  -1.773   6.211  1.00  0.95           N  \\nATOM    333  CA  ILE A  44      -5.540  -0.862   5.307  1.00  0.95           C  \\nATOM    334  C   ILE A  44      -4.177  -0.493   5.890  1.00  0.95           C  \\nATOM    335  CB  ILE A  44      -6.372   0.413   5.043  1.00  0.95           C  \\nATOM    336  O   ILE A  44      -3.180  -0.439   5.166  1.00  0.95           O  \\nATOM    337  CG1 ILE A  44      -7.631   0.072   4.238  1.00  0.95           C  \\nATOM    338  CG2 ILE A  44      -5.529   1.468   4.321  1.00  0.95           C  \\nATOM    339  CD1 ILE A  44      -8.553   1.259   3.998  1.00  0.95           C  \\nATOM    340  N   ARG A  45      -4.125  -0.382   7.117  1.00  0.95           N  \\nATOM    341  CA  ARG A  45      -2.861  -0.066   7.774  1.00  0.95           C  \\nATOM    342  C   ARG A  45      -1.862  -1.208   7.619  1.00  0.95           C  \\nATOM    343  CB  ARG A  45      -3.087   0.235   9.258  1.00  0.95           C  \\nATOM    344  O   ARG A  45      -0.661  -0.973   7.470  1.00  0.95           O  \\nATOM    345  CG  ARG A  45      -3.666   1.615   9.525  1.00  0.95           C  \\nATOM    346  CD  ARG A  45      -3.277   2.132  10.903  1.00  0.95           C  \\nATOM    347  NE  ARG A  45      -3.825   3.462  11.154  1.00  0.95           N  \\nATOM    348  NH1 ARG A  45      -2.745   3.752  13.175  1.00  0.95           N  \\nATOM    349  NH2 ARG A  45      -4.114   5.398  12.355  1.00  0.95           N  \\nATOM    350  CZ  ARG A  45      -3.560   4.201  12.227  1.00  0.95           C  \\nATOM    351  N   GLY A  46      -2.397  -2.425   7.734  1.00  0.97           N  \\nATOM    352  CA  GLY A  46      -1.547  -3.580   7.493  1.00  0.97           C  \\nATOM    353  C   GLY A  46      -0.962  -3.609   6.094  1.00  0.97           C  \\nATOM    354  O   GLY A  46       0.223  -3.898   5.917  1.00  0.97           O  \\nATOM    355  N   MET A  47      -1.806  -3.248   5.155  1.00  0.97           N  \\nATOM    356  CA  MET A  47      -1.347  -3.199   3.769  1.00  0.97           C  \\nATOM    357  C   MET A  47      -0.303  -2.103   3.581  1.00  0.97           C  \\nATOM    358  CB  MET A  47      -2.524  -2.969   2.820  1.00  0.97           C  \\nATOM    359  O   MET A  47       0.713  -2.316   2.916  1.00  0.97           O  \\nATOM    360  CG  MET A  47      -3.475  -4.151   2.725  1.00  0.97           C  \\nATOM    361  SD  MET A  47      -4.823  -3.873   1.512  1.00  0.97           S  \\nATOM    362  CE  MET A  47      -5.830  -5.353   1.809  1.00  0.97           C  \\nATOM    363  N   ILE A  48      -0.542  -0.979   4.181  1.00  0.96           N  \\nATOM    364  CA  ILE A  48       0.374   0.154   4.100  1.00  0.96           C  \\nATOM    365  C   ILE A  48       1.716  -0.223   4.724  1.00  0.96           C  \\nATOM    366  CB  ILE A  48      -0.209   1.404   4.796  1.00  0.96           C  \\nATOM    367  O   ILE A  48       2.774   0.086   4.170  1.00  0.96           O  \\nATOM    368  CG1 ILE A  48      -1.421   1.931   4.019  1.00  0.96           C  \\nATOM    369  CG2 ILE A  48       0.862   2.489   4.943  1.00  0.96           C  \\nATOM    370  CD1 ILE A  48      -2.198   3.018   4.748  1.00  0.96           C  \\nATOM    371  N   ASN A  49       1.665  -0.929   5.772  1.00  0.97           N  \\nATOM    372  CA  ASN A  49       2.883  -1.344   6.460  1.00  0.97           C  \\nATOM    373  C   ASN A  49       3.736  -2.260   5.587  1.00  0.97           C  \\nATOM    374  CB  ASN A  49       2.543  -2.036   7.782  1.00  0.97           C  \\nATOM    375  O   ASN A  49       4.964  -2.163   5.594  1.00  0.97           O  \\nATOM    376  CG  ASN A  49       2.155  -1.056   8.872  1.00  0.97           C  \\nATOM    377  ND2 ASN A  49       1.449  -1.544   9.885  1.00  0.97           N  \\nATOM    378  OD1 ASN A  49       2.487   0.131   8.803  1.00  0.97           O  \\nATOM    379  N   ALA A  50       3.084  -3.040   4.871  1.00  0.96           N  \\nATOM    380  CA  ALA A  50       3.779  -3.973   3.988  1.00  0.96           C  \\nATOM    381  C   ALA A  50       4.525  -3.230   2.884  1.00  0.96           C  \\nATOM    382  CB  ALA A  50       2.793  -4.969   3.384  1.00  0.96           C  \\nATOM    383  O   ALA A  50       5.558  -3.699   2.400  1.00  0.96           O  \\nATOM    384  N   VAL A  51       3.971  -2.049   2.547  1.00  0.96           N  \\nATOM    385  CA  VAL A  51       4.593  -1.308   1.455  1.00  0.96           C  \\nATOM    386  C   VAL A  51       4.965   0.096   1.928  1.00  0.96           C  \\nATOM    387  CB  VAL A  51       3.663  -1.225   0.223  1.00  0.96           C  \\nATOM    388  O   VAL A  51       4.906   1.055   1.155  1.00  0.96           O  \\nATOM    389  CG1 VAL A  51       3.512  -2.597  -0.432  1.00  0.96           C  \\nATOM    390  CG2 VAL A  51       2.299  -0.666   0.622  1.00  0.96           C  \\nATOM    391  N   SER A  52       5.338   0.280   3.151  1.00  0.96           N  \\nATOM    392  CA  SER A  52       5.590   1.561   3.804  1.00  0.96           C  \\nATOM    393  C   SER A  52       6.708   2.327   3.104  1.00  0.96           C  \\nATOM    394  CB  SER A  52       5.949   1.351   5.275  1.00  0.96           C  \\nATOM    395  O   SER A  52       6.700   3.560   3.077  1.00  0.96           O  \\nATOM    396  OG  SER A  52       7.137   0.588   5.400  1.00  0.96           O  \\nATOM    397  N   PHE A  53       7.576   1.668   2.486  1.00  0.96           N  \\nATOM    398  CA  PHE A  53       8.729   2.303   1.858  1.00  0.96           C  \\nATOM    399  C   PHE A  53       8.396   2.748   0.439  1.00  0.96           C  \\nATOM    400  CB  PHE A  53       9.927   1.348   1.841  1.00  0.96           C  \\nATOM    401  O   PHE A  53       9.202   3.415  -0.214  1.00  0.96           O  \\nATOM    402  CG  PHE A  53       9.624   0.005   1.235  1.00  0.96           C  \\nATOM    403  CD1 PHE A  53       9.187  -1.049   2.029  1.00  0.96           C  \\nATOM    404  CD2 PHE A  53       9.776  -0.205  -0.130  1.00  0.96           C  \\nATOM    405  CE1 PHE A  53       8.905  -2.294   1.470  1.00  0.96           C  \\nATOM    406  CE2 PHE A  53       9.497  -1.446  -0.695  1.00  0.96           C  \\nATOM    407  CZ  PHE A  53       9.062  -2.489   0.107  1.00  0.96           C  \\nATOM    408  N   MET A  54       7.199   2.454   0.010  1.00  0.96           N  \\nATOM    409  CA  MET A  54       6.790   2.792  -1.351  1.00  0.96           C  \\nATOM    410  C   MET A  54       5.637   3.789  -1.340  1.00  0.96           C  \\nATOM    411  CB  MET A  54       6.386   1.533  -2.120  1.00  0.96           C  \\nATOM    412  O   MET A  54       5.242   4.300  -2.390  1.00  0.96           O  \\nATOM    413  CG  MET A  54       7.527   0.551  -2.332  1.00  0.96           C  \\nATOM    414  SD  MET A  54       6.971  -1.017  -3.105  1.00  0.96           S  \\nATOM    415  CE  MET A  54       6.516  -0.416  -4.756  1.00  0.96           C  \\nATOM    416  N   VAL A  55       5.111   4.020  -0.227  1.00  0.97           N  \\nATOM    417  CA  VAL A  55       3.937   4.886  -0.197  1.00  0.97           C  \\nATOM    418  C   VAL A  55       4.123   5.974   0.858  1.00  0.97           C  \\nATOM    419  CB  VAL A  55       2.648   4.083   0.087  1.00  0.97           C  \\nATOM    420  O   VAL A  55       4.924   5.819   1.783  1.00  0.97           O  \\nATOM    421  CG1 VAL A  55       2.390   3.065  -1.023  1.00  0.97           C  \\nATOM    422  CG2 VAL A  55       2.741   3.387   1.444  1.00  0.97           C  \\nATOM    423  N   LYS A  56       3.457   7.034   0.606  1.00  0.97           N  \\nATOM    424  CA  LYS A  56       3.353   8.135   1.559  1.00  0.97           C  \\nATOM    425  C   LYS A  56       1.927   8.274   2.086  1.00  0.97           C  \\nATOM    426  CB  LYS A  56       3.804   9.447   0.915  1.00  0.97           C  \\nATOM    427  O   LYS A  56       0.974   8.326   1.306  1.00  0.97           O  \\nATOM    428  CG  LYS A  56       3.836  10.629   1.873  1.00  0.97           C  \\nATOM    429  CD  LYS A  56       4.335  11.893   1.186  1.00  0.97           C  \\nATOM    430  CE  LYS A  56       4.355  13.079   2.140  1.00  0.97           C  \\nATOM    431  NZ  LYS A  56       4.862  14.317   1.476  1.00  0.97           N  \\nATOM    432  N   VAL A  57       1.819   8.276   3.366  1.00  0.96           N  \\nATOM    433  CA  VAL A  57       0.502   8.338   3.991  1.00  0.96           C  \\nATOM    434  C   VAL A  57       0.316   9.692   4.671  1.00  0.96           C  \\nATOM    435  CB  VAL A  57       0.305   7.196   5.013  1.00  0.96           C  \\nATOM    436  O   VAL A  57       1.189  10.146   5.413  1.00  0.96           O  \\nATOM    437  CG1 VAL A  57      -1.077   7.282   5.659  1.00  0.96           C  \\nATOM    438  CG2 VAL A  57       0.499   5.838   4.340  1.00  0.96           C  \\nATOM    439  N   GLU A  58      -0.789  10.362   4.373  1.00  0.94           N  \\nATOM    440  CA  GLU A  58      -1.191  11.616   5.003  1.00  0.94           C  \\nATOM    441  C   GLU A  58      -2.549  11.481   5.685  1.00  0.94           C  \\nATOM    442  CB  GLU A  58      -1.229  12.748   3.973  1.00  0.94           C  \\nATOM    443  O   GLU A  58      -3.509  11.000   5.079  1.00  0.94           O  \\nATOM    444  CG  GLU A  58       0.124  13.057   3.348  1.00  0.94           C  \\nATOM    445  CD  GLU A  58       0.070  14.184   2.329  1.00  0.94           C  \\nATOM    446  OE1 GLU A  58       1.143  14.674   1.909  1.00  0.94           O  \\nATOM    447  OE2 GLU A  58      -1.054  14.581   1.948  1.00  0.94           O  \\nATOM    448  N   GLU A  59      -2.607  11.763   7.038  1.00  0.88           N  \\nATOM    449  CA  GLU A  59      -3.875  11.714   7.760  1.00  0.88           C  \\nATOM    450  C   GLU A  59      -4.691  12.983   7.529  1.00  0.88           C  \\nATOM    451  CB  GLU A  59      -3.633  11.510   9.258  1.00  0.88           C  \\nATOM    452  O   GLU A  59      -4.131  14.074   7.405  1.00  0.88           O  \\nATOM    453  CG  GLU A  59      -2.959  10.189   9.598  1.00  0.88           C  \\nATOM    454  CD  GLU A  59      -2.720  10.003  11.088  1.00  0.88           C  \\nATOM    455  OE1 GLU A  59      -2.365   8.879  11.510  1.00  0.88           O  \\nATOM    456  OE2 GLU A  59      -2.890  10.989  11.839  1.00  0.88           O  \\n\",\"pdb\");\n\tviewer_16267737060429387.setStyle({\"cartoon\": {\"colorscheme\": {\"prop\": \"b\", \"gradient\": \"roygb\", \"min\": 0, \"max\": 1}}});\n\tviewer_16267737060429387.zoomTo();\nviewer_16267737060429387.render();\n});\n</script>",
                "text/html": "<div id=\"3dmolviewer_16267737060429387\"  style=\"position: relative; width: 640px; height: 480px\">\n        <p id=\"3dmolwarning_16267737060429387\" style=\"background-color:#ffcccc;color:black\">You appear to be running in JupyterLab (or JavaScript failed to load for some other reason).  You need to install the 3dmol extension: <br>\n        <tt>jupyter labextension install jupyterlab_3dmol</tt></p>\n        </div>\n<script>\n\nvar loadScriptAsync = function(uri){\n  return new Promise((resolve, reject) => {\n    var tag = document.createElement('script');\n    tag.src = uri;\n    tag.async = true;\n    tag.onload = () => {\n      resolve();\n    };\n  var firstScriptTag = document.getElementsByTagName('script')[0];\n  firstScriptTag.parentNode.insertBefore(tag, firstScriptTag);\n});\n};\n\nif(typeof $3Dmolpromise === 'undefined') {\n$3Dmolpromise = null;\n  $3Dmolpromise = loadScriptAsync('https://3dmol.org/build/3Dmol.js');\n}\n\nvar viewer_16267737060429387 = null;\nvar warn = document.getElementById(\"3dmolwarning_16267737060429387\");\nif(warn) {\n    warn.parentNode.removeChild(warn);\n}\n$3Dmolpromise.then(function() {\nviewer_16267737060429387 = $3Dmol.createViewer($(\"#3dmolviewer_16267737060429387\"),{backgroundColor:\"white\"});\nviewer_16267737060429387.zoomTo();\n\tviewer_16267737060429387.addModel(\"ATOM      1  N   MET A   1     -17.267   9.115  12.596  1.00  0.62           N  \\nATOM      2  CA  MET A   1     -16.732   9.584  11.321  1.00  0.62           C  \\nATOM      3  C   MET A   1     -15.447   8.845  10.965  1.00  0.62           C  \\nATOM      4  CB  MET A   1     -16.473  11.091  11.368  1.00  0.62           C  \\nATOM      5  O   MET A   1     -14.582   8.648  11.820  1.00  0.62           O  \\nATOM      6  CG  MET A   1     -17.738  11.929  11.450  1.00  0.62           C  \\nATOM      7  SD  MET A   1     -17.670  13.413  10.374  1.00  0.62           S  \\nATOM      8  CE  MET A   1     -18.542  14.610  11.424  1.00  0.62           C  \\nATOM      9  N   ALA A   2     -15.505   7.858  10.118  1.00  0.75           N  \\nATOM     10  CA  ALA A   2     -14.348   7.023   9.804  1.00  0.75           C  \\nATOM     11  C   ALA A   2     -13.202   7.861   9.244  1.00  0.75           C  \\nATOM     12  CB  ALA A   2     -14.736   5.927   8.814  1.00  0.75           C  \\nATOM     13  O   ALA A   2     -13.422   8.758   8.427  1.00  0.75           O  \\nATOM     14  N   LYS A   3     -12.173   7.991   9.993  1.00  0.90           N  \\nATOM     15  CA  LYS A   3     -10.962   8.708   9.602  1.00  0.90           C  \\nATOM     16  C   LYS A   3     -10.404   8.168   8.289  1.00  0.90           C  \\nATOM     17  CB  LYS A   3      -9.903   8.611  10.701  1.00  0.90           C  \\nATOM     18  O   LYS A   3     -10.451   6.962   8.037  1.00  0.90           O  \\nATOM     19  CG  LYS A   3      -8.775   9.623  10.565  1.00  0.90           C  \\nATOM     20  CD  LYS A   3      -7.847   9.592  11.772  1.00  0.90           C  \\nATOM     21  CE  LYS A   3      -6.707  10.591  11.629  1.00  0.90           C  \\nATOM     22  NZ  LYS A   3      -5.758  10.518  12.779  1.00  0.90           N  \\nATOM     23  N   THR A   4     -10.280   9.093   7.365  1.00  0.94           N  \\nATOM     24  CA  THR A   4      -9.704   8.701   6.084  1.00  0.94           C  \\nATOM     25  C   THR A   4      -8.249   9.149   5.985  1.00  0.94           C  \\nATOM     26  CB  THR A   4     -10.506   9.288   4.908  1.00  0.94           C  \\nATOM     27  O   THR A   4      -7.833  10.082   6.676  1.00  0.94           O  \\nATOM     28  CG2 THR A   4     -11.928   8.739   4.883  1.00  0.94           C  \\nATOM     29  OG1 THR A   4     -10.559  10.714   5.038  1.00  0.94           O  \\nATOM     30  N   ILE A   5      -7.485   8.271   5.286  1.00  0.95           N  \\nATOM     31  CA  ILE A   5      -6.082   8.606   5.066  1.00  0.95           C  \\nATOM     32  C   ILE A   5      -5.793   8.661   3.568  1.00  0.95           C  \\nATOM     33  CB  ILE A   5      -5.144   7.591   5.756  1.00  0.95           C  \\nATOM     34  O   ILE A   5      -6.455   7.985   2.776  1.00  0.95           O  \\nATOM     35  CG1 ILE A   5      -5.442   6.169   5.266  1.00  0.95           C  \\nATOM     36  CG2 ILE A   5      -5.274   7.683   7.279  1.00  0.95           C  \\nATOM     37  CD1 ILE A   5      -4.471   5.119   5.786  1.00  0.95           C  \\nATOM     38  N   LYS A   6      -4.933   9.597   3.305  1.00  0.97           N  \\nATOM     39  CA  LYS A   6      -4.483   9.735   1.923  1.00  0.97           C  \\nATOM     40  C   LYS A   6      -3.190   8.960   1.685  1.00  0.97           C  \\nATOM     41  CB  LYS A   6      -4.282  11.209   1.569  1.00  0.97           C  \\nATOM     42  O   LYS A   6      -2.207   9.147   2.405  1.00  0.97           O  \\nATOM     43  CG  LYS A   6      -5.573  11.955   1.268  1.00  0.97           C  \\nATOM     44  CD  LYS A   6      -5.299  13.364   0.757  1.00  0.97           C  \\nATOM     45  CE  LYS A   6      -6.590  14.147   0.553  1.00  0.97           C  \\nATOM     46  NZ  LYS A   6      -6.323  15.548   0.109  1.00  0.97           N  \\nATOM     47  N   ILE A   7      -3.230   8.117   0.655  1.00  0.97           N  \\nATOM     48  CA  ILE A   7      -2.078   7.281   0.337  1.00  0.97           C  \\nATOM     49  C   ILE A   7      -1.549   7.637  -1.051  1.00  0.97           C  \\nATOM     50  CB  ILE A   7      -2.434   5.779   0.405  1.00  0.97           C  \\nATOM     51  O   ILE A   7      -2.300   7.633  -2.029  1.00  0.97           O  \\nATOM     52  CG1 ILE A   7      -3.104   5.449   1.743  1.00  0.97           C  \\nATOM     53  CG2 ILE A   7      -1.185   4.918   0.191  1.00  0.97           C  \\nATOM     54  CD1 ILE A   7      -3.818   4.104   1.763  1.00  0.97           C  \\nATOM     55  N   THR A   8      -0.278   7.914  -1.118  1.00  0.98           N  \\nATOM     56  CA  THR A   8       0.374   8.250  -2.379  1.00  0.98           C  \\nATOM     57  C   THR A   8       1.532   7.297  -2.660  1.00  0.98           C  \\nATOM     58  CB  THR A   8       0.891   9.701  -2.370  1.00  0.98           C  \\nATOM     59  O   THR A   8       2.340   7.015  -1.773  1.00  0.98           O  \\nATOM     60  CG2 THR A   8       1.456  10.091  -3.732  1.00  0.98           C  \\nATOM     61  OG1 THR A   8      -0.188  10.585  -2.042  1.00  0.98           O  \\nATOM     62  N   GLN A   9       1.519   6.804  -3.830  1.00  0.98           N  \\nATOM     63  CA  GLN A   9       2.642   5.969  -4.243  1.00  0.98           C  \\nATOM     64  C   GLN A   9       3.865   6.818  -4.579  1.00  0.98           C  \\nATOM     65  CB  GLN A   9       2.257   5.106  -5.445  1.00  0.98           C  \\nATOM     66  O   GLN A   9       3.794   7.710  -5.427  1.00  0.98           O  \\nATOM     67  CG  GLN A   9       3.329   4.104  -5.852  1.00  0.98           C  \\nATOM     68  CD  GLN A   9       2.884   3.194  -6.981  1.00  0.98           C  \\nATOM     69  NE2 GLN A   9       3.627   2.114  -7.200  1.00  0.98           N  \\nATOM     70  OE1 GLN A   9       1.881   3.459  -7.651  1.00  0.98           O  \\nATOM     71  N   THR A  10       4.927   6.561  -4.016  1.00  0.97           N  \\nATOM     72  CA  THR A  10       6.120   7.382  -4.189  1.00  0.97           C  \\nATOM     73  C   THR A  10       7.185   6.627  -4.979  1.00  0.97           C  \\nATOM     74  CB  THR A  10       6.698   7.821  -2.831  1.00  0.97           C  \\nATOM     75  O   THR A  10       8.026   7.240  -5.640  1.00  0.97           O  \\nATOM     76  CG2 THR A  10       5.735   8.746  -2.096  1.00  0.97           C  \\nATOM     77  OG1 THR A  10       6.939   6.661  -2.024  1.00  0.97           O  \\nATOM     78  N   ARG A  11       7.105   5.350  -4.962  1.00  0.96           N  \\nATOM     79  CA  ARG A  11       8.085   4.527  -5.665  1.00  0.96           C  \\nATOM     80  C   ARG A  11       7.399   3.552  -6.617  1.00  0.96           C  \\nATOM     81  CB  ARG A  11       8.957   3.761  -4.669  1.00  0.96           C  \\nATOM     82  O   ARG A  11       6.225   3.221  -6.435  1.00  0.96           O  \\nATOM     83  CG  ARG A  11       9.848   4.651  -3.818  1.00  0.96           C  \\nATOM     84  CD  ARG A  11      10.841   3.838  -2.999  1.00  0.96           C  \\nATOM     85  NE  ARG A  11      11.759   4.698  -2.257  1.00  0.96           N  \\nATOM     86  NH1 ARG A  11      12.920   2.959  -1.274  1.00  0.96           N  \\nATOM     87  NH2 ARG A  11      13.504   5.130  -0.828  1.00  0.96           N  \\nATOM     88  CZ  ARG A  11      12.726   4.261  -1.455  1.00  0.96           C  \\nATOM     89  N   SER A  12       8.202   3.131  -7.578  1.00  0.96           N  \\nATOM     90  CA  SER A  12       7.666   2.250  -8.610  1.00  0.96           C  \\nATOM     91  C   SER A  12       7.516   0.823  -8.095  1.00  0.96           C  \\nATOM     92  CB  SER A  12       8.567   2.262  -9.847  1.00  0.96           C  \\nATOM     93  O   SER A  12       8.245   0.402  -7.194  1.00  0.96           O  \\nATOM     94  OG  SER A  12       8.136   1.298 -10.792  1.00  0.96           O  \\nATOM     95  N   ALA A  13       6.536   0.098  -8.717  1.00  0.94           N  \\nATOM     96  CA  ALA A  13       6.306  -1.305  -8.384  1.00  0.94           C  \\nATOM     97  C   ALA A  13       7.261  -2.214  -9.152  1.00  0.94           C  \\nATOM     98  CB  ALA A  13       4.858  -1.691  -8.676  1.00  0.94           C  \\nATOM     99  O   ALA A  13       7.347  -3.412  -8.873  1.00  0.94           O  \\nATOM    100  N   ILE A  14       8.073  -1.662 -10.007  1.00  0.95           N  \\nATOM    101  CA  ILE A  14       8.947  -2.453 -10.866  1.00  0.95           C  \\nATOM    102  C   ILE A  14      10.057  -3.087 -10.031  1.00  0.95           C  \\nATOM    103  CB  ILE A  14       9.552  -1.595 -12.000  1.00  0.95           C  \\nATOM    104  O   ILE A  14      10.696  -2.411  -9.221  1.00  0.95           O  \\nATOM    105  CG1 ILE A  14       8.447  -1.080 -12.928  1.00  0.95           C  \\nATOM    106  CG2 ILE A  14      10.597  -2.394 -12.783  1.00  0.95           C  \\nATOM    107  CD1 ILE A  14       8.905   0.003 -13.896  1.00  0.95           C  \\nATOM    108  N   GLY A  15      10.225  -4.430 -10.199  1.00  0.95           N  \\nATOM    109  CA  GLY A  15      11.293  -5.144  -9.518  1.00  0.95           C  \\nATOM    110  C   GLY A  15      10.964  -5.474  -8.074  1.00  0.95           C  \\nATOM    111  O   GLY A  15      11.843  -5.870  -7.307  1.00  0.95           O  \\nATOM    112  N   ARG A  16       9.715  -5.192  -7.672  1.00  0.95           N  \\nATOM    113  CA  ARG A  16       9.320  -5.490  -6.299  1.00  0.95           C  \\nATOM    114  C   ARG A  16       8.689  -6.874  -6.199  1.00  0.95           C  \\nATOM    115  CB  ARG A  16       8.346  -4.431  -5.777  1.00  0.95           C  \\nATOM    116  O   ARG A  16       8.324  -7.471  -7.214  1.00  0.95           O  \\nATOM    117  CG  ARG A  16       8.941  -3.034  -5.696  1.00  0.95           C  \\nATOM    118  CD  ARG A  16      10.080  -2.964  -4.689  1.00  0.95           C  \\nATOM    119  NE  ARG A  16      10.647  -1.620  -4.608  1.00  0.95           N  \\nATOM    120  NH1 ARG A  16      12.785  -2.329  -4.093  1.00  0.95           N  \\nATOM    121  NH2 ARG A  16      12.328  -0.090  -4.280  1.00  0.95           N  \\nATOM    122  CZ  ARG A  16      11.918  -1.350  -4.327  1.00  0.95           C  \\nATOM    123  N   LEU A  17       8.627  -7.331  -5.027  1.00  0.96           N  \\nATOM    124  CA  LEU A  17       8.019  -8.633  -4.774  1.00  0.96           C  \\nATOM    125  C   LEU A  17       6.571  -8.658  -5.251  1.00  0.96           C  \\nATOM    126  CB  LEU A  17       8.083  -8.974  -3.283  1.00  0.96           C  \\nATOM    127  O   LEU A  17       5.881  -7.637  -5.210  1.00  0.96           O  \\nATOM    128  CG  LEU A  17       9.480  -9.153  -2.687  1.00  0.96           C  \\nATOM    129  CD1 LEU A  17       9.406  -9.192  -1.165  1.00  0.96           C  \\nATOM    130  CD2 LEU A  17      10.134 -10.419  -3.229  1.00  0.96           C  \\nATOM    131  N   PRO A  18       6.125  -9.793  -5.757  1.00  0.96           N  \\nATOM    132  CA  PRO A  18       4.744  -9.921  -6.228  1.00  0.96           C  \\nATOM    133  C   PRO A  18       3.719  -9.533  -5.165  1.00  0.96           C  \\nATOM    134  CB  PRO A  18       4.629 -11.406  -6.581  1.00  0.96           C  \\nATOM    135  O   PRO A  18       2.680  -8.951  -5.487  1.00  0.96           O  \\nATOM    136  CG  PRO A  18       6.027 -11.837  -6.884  1.00  0.96           C  \\nATOM    137  CD  PRO A  18       6.967 -11.048  -6.019  1.00  0.96           C  \\nATOM    138  N   LYS A  19       4.027  -9.835  -3.967  1.00  0.97           N  \\nATOM    139  CA  LYS A  19       3.118  -9.501  -2.873  1.00  0.97           C  \\nATOM    140  C   LYS A  19       2.965  -7.990  -2.728  1.00  0.97           C  \\nATOM    141  CB  LYS A  19       3.614 -10.106  -1.559  1.00  0.97           C  \\nATOM    142  O   LYS A  19       1.861  -7.492  -2.497  1.00  0.97           O  \\nATOM    143  CG  LYS A  19       3.440 -11.615  -1.468  1.00  0.97           C  \\nATOM    144  CD  LYS A  19       3.841 -12.142  -0.097  1.00  0.97           C  \\nATOM    145  CE  LYS A  19       3.677 -13.654  -0.008  1.00  0.97           C  \\nATOM    146  NZ  LYS A  19       4.086 -14.177   1.330  1.00  0.97           N  \\nATOM    147  N   HIS A  20       4.055  -7.272  -2.872  1.00  0.97           N  \\nATOM    148  CA  HIS A  20       4.003  -5.818  -2.763  1.00  0.97           C  \\nATOM    149  C   HIS A  20       3.211  -5.207  -3.914  1.00  0.97           C  \\nATOM    150  CB  HIS A  20       5.416  -5.233  -2.730  1.00  0.97           C  \\nATOM    151  O   HIS A  20       2.423  -4.281  -3.708  1.00  0.97           O  \\nATOM    152  CG  HIS A  20       6.169  -5.553  -1.477  1.00  0.97           C  \\nATOM    153  CD2 HIS A  20       5.751  -6.062  -0.295  1.00  0.97           C  \\nATOM    154  ND1 HIS A  20       7.525  -5.346  -1.351  1.00  0.97           N  \\nATOM    155  CE1 HIS A  20       7.910  -5.717  -0.141  1.00  0.97           C  \\nATOM    156  NE2 HIS A  20       6.853  -6.155   0.520  1.00  0.97           N  \\nATOM    157  N   LYS A  21       3.419  -5.795  -5.028  1.00  0.96           N  \\nATOM    158  CA  LYS A  21       2.679  -5.325  -6.196  1.00  0.96           C  \\nATOM    159  C   LYS A  21       1.177  -5.515  -6.008  1.00  0.96           C  \\nATOM    160  CB  LYS A  21       3.146  -6.055  -7.456  1.00  0.96           C  \\nATOM    161  O   LYS A  21       0.388  -4.626  -6.333  1.00  0.96           O  \\nATOM    162  CG  LYS A  21       4.572  -5.725  -7.871  1.00  0.96           C  \\nATOM    163  CD  LYS A  21       4.964  -6.449  -9.153  1.00  0.96           C  \\nATOM    164  CE  LYS A  21       6.422  -6.200  -9.513  1.00  0.96           C  \\nATOM    165  NZ  LYS A  21       6.814  -6.916 -10.764  1.00  0.96           N  \\nATOM    166  N   ALA A  22       0.827  -6.587  -5.450  1.00  0.97           N  \\nATOM    167  CA  ALA A  22      -0.580  -6.888  -5.201  1.00  0.97           C  \\nATOM    168  C   ALA A  22      -1.177  -5.918  -4.186  1.00  0.97           C  \\nATOM    169  CB  ALA A  22      -0.738  -8.327  -4.714  1.00  0.97           C  \\nATOM    170  O   ALA A  22      -2.324  -5.486  -4.330  1.00  0.97           O  \\nATOM    171  N   THR A  23      -0.330  -5.657  -3.214  1.00  0.97           N  \\nATOM    172  CA  THR A  23      -0.793  -4.718  -2.198  1.00  0.97           C  \\nATOM    173  C   THR A  23      -1.047  -3.343  -2.809  1.00  0.97           C  \\nATOM    174  CB  THR A  23       0.224  -4.592  -1.049  1.00  0.97           C  \\nATOM    175  O   THR A  23      -2.063  -2.707  -2.519  1.00  0.97           O  \\nATOM    176  CG2 THR A  23      -0.295  -3.667   0.047  1.00  0.97           C  \\nATOM    177  OG1 THR A  23       0.466  -5.889  -0.489  1.00  0.97           O  \\nATOM    178  N   LEU A  24      -0.161  -2.890  -3.651  1.00  0.97           N  \\nATOM    179  CA  LEU A  24      -0.338  -1.604  -4.318  1.00  0.97           C  \\nATOM    180  C   LEU A  24      -1.614  -1.596  -5.152  1.00  0.97           C  \\nATOM    181  CB  LEU A  24       0.869  -1.290  -5.206  1.00  0.97           C  \\nATOM    182  O   LEU A  24      -2.385  -0.635  -5.106  1.00  0.97           O  \\nATOM    183  CG  LEU A  24       2.173  -0.951  -4.483  1.00  0.97           C  \\nATOM    184  CD1 LEU A  24       3.294  -0.723  -5.492  1.00  0.97           C  \\nATOM    185  CD2 LEU A  24       1.989   0.273  -3.593  1.00  0.97           C  \\nATOM    186  N   LEU A  25      -1.857  -2.673  -5.822  1.00  0.96           N  \\nATOM    187  CA  LEU A  25      -3.072  -2.802  -6.618  1.00  0.96           C  \\nATOM    188  C   LEU A  25      -4.307  -2.834  -5.724  1.00  0.96           C  \\nATOM    189  CB  LEU A  25      -3.018  -4.066  -7.480  1.00  0.96           C  \\nATOM    190  O   LEU A  25      -5.324  -2.213  -6.040  1.00  0.96           O  \\nATOM    191  CG  LEU A  25      -2.031  -4.050  -8.647  1.00  0.96           C  \\nATOM    192  CD1 LEU A  25      -1.894  -5.445  -9.247  1.00  0.96           C  \\nATOM    193  CD2 LEU A  25      -2.473  -3.048  -9.708  1.00  0.96           C  \\nATOM    194  N   GLY A  26      -4.185  -3.612  -4.630  1.00  0.96           N  \\nATOM    195  CA  GLY A  26      -5.267  -3.690  -3.661  1.00  0.96           C  \\nATOM    196  C   GLY A  26      -5.625  -2.345  -3.056  1.00  0.96           C  \\nATOM    197  O   GLY A  26      -6.791  -2.085  -2.753  1.00  0.96           O  \\nATOM    198  N   LEU A  27      -4.596  -1.532  -2.907  1.00  0.95           N  \\nATOM    199  CA  LEU A  27      -4.836  -0.199  -2.364  1.00  0.95           C  \\nATOM    200  C   LEU A  27      -5.390   0.733  -3.436  1.00  0.95           C  \\nATOM    201  CB  LEU A  27      -3.545   0.383  -1.782  1.00  0.95           C  \\nATOM    202  O   LEU A  27      -5.934   1.794  -3.121  1.00  0.95           O  \\nATOM    203  CG  LEU A  27      -3.063  -0.221  -0.462  1.00  0.95           C  \\nATOM    204  CD1 LEU A  27      -1.637   0.229  -0.163  1.00  0.95           C  \\nATOM    205  CD2 LEU A  27      -4.001   0.165   0.677  1.00  0.95           C  \\nATOM    206  N   GLY A  28      -5.279   0.325  -4.666  1.00  0.96           N  \\nATOM    207  CA  GLY A  28      -5.773   1.117  -5.782  1.00  0.96           C  \\nATOM    208  C   GLY A  28      -4.728   2.054  -6.357  1.00  0.96           C  \\nATOM    209  O   GLY A  28      -5.066   3.060  -6.985  1.00  0.96           O  \\nATOM    210  N   LEU A  29      -3.515   1.784  -6.094  1.00  0.96           N  \\nATOM    211  CA  LEU A  29      -2.419   2.592  -6.618  1.00  0.96           C  \\nATOM    212  C   LEU A  29      -1.886   2.004  -7.920  1.00  0.96           C  \\nATOM    213  CB  LEU A  29      -1.290   2.695  -5.590  1.00  0.96           C  \\nATOM    214  O   LEU A  29      -1.490   0.837  -7.963  1.00  0.96           O  \\nATOM    215  CG  LEU A  29      -1.641   3.367  -4.262  1.00  0.96           C  \\nATOM    216  CD1 LEU A  29      -0.547   3.107  -3.231  1.00  0.96           C  \\nATOM    217  CD2 LEU A  29      -1.852   4.864  -4.459  1.00  0.96           C  \\nATOM    218  N   ARG A  30      -1.787   2.838  -9.009  1.00  0.94           N  \\nATOM    219  CA  ARG A  30      -1.482   2.297 -10.330  1.00  0.94           C  \\nATOM    220  C   ARG A  30      -0.168   2.860 -10.862  1.00  0.94           C  \\nATOM    221  CB  ARG A  30      -2.617   2.601 -11.310  1.00  0.94           C  \\nATOM    222  O   ARG A  30       0.526   2.200 -11.638  1.00  0.94           O  \\nATOM    223  CG  ARG A  30      -3.924   1.898 -10.977  1.00  0.94           C  \\nATOM    224  CD  ARG A  30      -4.979   2.131 -12.049  1.00  0.94           C  \\nATOM    225  NE  ARG A  30      -6.213   1.407 -11.757  1.00  0.94           N  \\nATOM    226  NH1 ARG A  30      -7.365   2.217 -13.588  1.00  0.94           N  \\nATOM    227  NH2 ARG A  30      -8.384   0.763 -12.138  1.00  0.94           N  \\nATOM    228  CZ  ARG A  30      -7.318   1.464 -12.495  1.00  0.94           C  \\nATOM    229  N   ARG A  31       0.106   4.086 -10.446  1.00  0.95           N  \\nATOM    230  CA  ARG A  31       1.321   4.732 -10.932  1.00  0.95           C  \\nATOM    231  C   ARG A  31       1.947   5.605  -9.849  1.00  0.95           C  \\nATOM    232  CB  ARG A  31       1.023   5.572 -12.175  1.00  0.95           C  \\nATOM    233  O   ARG A  31       1.307   5.904  -8.839  1.00  0.95           O  \\nATOM    234  CG  ARG A  31       0.029   6.698 -11.935  1.00  0.95           C  \\nATOM    235  CD  ARG A  31      -0.348   7.403 -13.230  1.00  0.95           C  \\nATOM    236  NE  ARG A  31      -1.216   8.552 -12.985  1.00  0.95           N  \\nATOM    237  NH1 ARG A  31      -3.179   7.334 -13.008  1.00  0.95           N  \\nATOM    238  NH2 ARG A  31      -3.234   9.599 -12.661  1.00  0.95           N  \\nATOM    239  CZ  ARG A  31      -2.541   8.492 -12.885  1.00  0.95           C  \\nATOM    240  N   ILE A  32       3.206   5.998 -10.054  1.00  0.97           N  \\nATOM    241  CA  ILE A  32       3.909   6.870  -9.119  1.00  0.97           C  \\nATOM    242  C   ILE A  32       3.216   8.229  -9.062  1.00  0.97           C  \\nATOM    243  CB  ILE A  32       5.393   7.040  -9.512  1.00  0.97           C  \\nATOM    244  O   ILE A  32       2.883   8.808 -10.099  1.00  0.97           O  \\nATOM    245  CG1 ILE A  32       6.130   5.699  -9.411  1.00  0.97           C  \\nATOM    246  CG2 ILE A  32       6.065   8.102  -8.636  1.00  0.97           C  \\nATOM    247  CD1 ILE A  32       7.556   5.735  -9.941  1.00  0.97           C  \\nATOM    248  N   GLY A  33       2.942   8.699  -7.806  1.00  0.96           N  \\nATOM    249  CA  GLY A  33       2.290   9.981  -7.590  1.00  0.96           C  \\nATOM    250  C   GLY A  33       0.781   9.872  -7.482  1.00  0.96           C  \\nATOM    251  O   GLY A  33       0.101  10.857  -7.183  1.00  0.96           O  \\nATOM    252  N   HIS A  34       0.305   8.724  -7.793  1.00  0.98           N  \\nATOM    253  CA  HIS A  34      -1.127   8.471  -7.672  1.00  0.98           C  \\nATOM    254  C   HIS A  34      -1.561   8.453  -6.211  1.00  0.98           C  \\nATOM    255  CB  HIS A  34      -1.497   7.149  -8.347  1.00  0.98           C  \\nATOM    256  O   HIS A  34      -0.943   7.780  -5.383  1.00  0.98           O  \\nATOM    257  CG  HIS A  34      -2.971   6.936  -8.481  1.00  0.98           C  \\nATOM    258  CD2 HIS A  34      -4.011   7.784  -8.305  1.00  0.98           C  \\nATOM    259  ND1 HIS A  34      -3.518   5.722  -8.835  1.00  0.98           N  \\nATOM    260  CE1 HIS A  34      -4.835   5.833  -8.872  1.00  0.98           C  \\nATOM    261  NE2 HIS A  34      -5.160   7.075  -8.555  1.00  0.98           N  \\nATOM    262  N   THR A  35      -2.610   9.135  -5.915  1.00  0.97           N  \\nATOM    263  CA  THR A  35      -3.098   9.260  -4.546  1.00  0.97           C  \\nATOM    264  C   THR A  35      -4.517   8.713  -4.425  1.00  0.97           C  \\nATOM    265  CB  THR A  35      -3.069  10.726  -4.075  1.00  0.97           C  \\nATOM    266  O   THR A  35      -5.350   8.934  -5.306  1.00  0.97           O  \\nATOM    267  CG2 THR A  35      -3.447  10.838  -2.602  1.00  0.97           C  \\nATOM    268  OG1 THR A  35      -1.749  11.255  -4.259  1.00  0.97           O  \\nATOM    269  N   VAL A  36      -4.735   8.008  -3.313  1.00  0.97           N  \\nATOM    270  CA  VAL A  36      -6.062   7.461  -3.051  1.00  0.97           C  \\nATOM    271  C   VAL A  36      -6.443   7.706  -1.593  1.00  0.97           C  \\nATOM    272  CB  VAL A  36      -6.126   5.951  -3.373  1.00  0.97           C  \\nATOM    273  O   VAL A  36      -5.572   7.826  -0.729  1.00  0.97           O  \\nATOM    274  CG1 VAL A  36      -5.911   5.707  -4.865  1.00  0.97           C  \\nATOM    275  CG2 VAL A  36      -5.093   5.186  -2.548  1.00  0.97           C  \\nATOM    276  N   GLU A  37      -7.730   7.942  -1.412  1.00  0.96           N  \\nATOM    277  CA  GLU A  37      -8.267   8.101  -0.064  1.00  0.96           C  \\nATOM    278  C   GLU A  37      -8.964   6.827   0.405  1.00  0.96           C  \\nATOM    279  CB  GLU A  37      -9.238   9.283  -0.007  1.00  0.96           C  \\nATOM    280  O   GLU A  37      -9.835   6.298  -0.288  1.00  0.96           O  \\nATOM    281  CG  GLU A  37      -8.572  10.636  -0.214  1.00  0.96           C  \\nATOM    282  CD  GLU A  37      -9.526  11.807  -0.039  1.00  0.96           C  \\nATOM    283  OE1 GLU A  37      -9.073  12.972  -0.097  1.00  0.96           O  \\nATOM    284  OE2 GLU A  37     -10.735  11.556   0.161  1.00  0.96           O  \\nATOM    285  N   ARG A  38      -8.497   6.384   1.605  1.00  0.94           N  \\nATOM    286  CA  ARG A  38      -9.061   5.160   2.163  1.00  0.94           C  \\nATOM    287  C   ARG A  38      -9.397   5.335   3.641  1.00  0.94           C  \\nATOM    288  CB  ARG A  38      -8.092   3.989   1.982  1.00  0.94           C  \\nATOM    289  O   ARG A  38      -8.863   6.228   4.302  1.00  0.94           O  \\nATOM    290  CG  ARG A  38      -7.850   3.610   0.529  1.00  0.94           C  \\nATOM    291  CD  ARG A  38      -9.062   2.921  -0.083  1.00  0.94           C  \\nATOM    292  NE  ARG A  38      -8.785   2.447  -1.436  1.00  0.94           N  \\nATOM    293  NH1 ARG A  38      -9.641   0.328  -1.090  1.00  0.94           N  \\nATOM    294  NH2 ARG A  38      -8.773   0.900  -3.133  1.00  0.94           N  \\nATOM    295  CZ  ARG A  38      -9.067   1.226  -1.883  1.00  0.94           C  \\nATOM    296  N   GLU A  39     -10.321   4.513   4.042  1.00  0.94           N  \\nATOM    297  CA  GLU A  39     -10.677   4.510   5.457  1.00  0.94           C  \\nATOM    298  C   GLU A  39      -9.549   3.936   6.309  1.00  0.94           C  \\nATOM    299  CB  GLU A  39     -11.966   3.717   5.686  1.00  0.94           C  \\nATOM    300  O   GLU A  39      -8.887   2.977   5.907  1.00  0.94           O  \\nATOM    301  CG  GLU A  39     -13.202   4.361   5.074  1.00  0.94           C  \\nATOM    302  CD  GLU A  39     -14.481   3.585   5.348  1.00  0.94           C  \\nATOM    303  OE1 GLU A  39     -15.572   4.056   4.954  1.00  0.94           O  \\nATOM    304  OE2 GLU A  39     -14.390   2.499   5.961  1.00  0.94           O  \\nATOM    305  N   ASP A  40      -9.339   4.576   7.413  1.00  0.93           N  \\nATOM    306  CA  ASP A  40      -8.279   4.121   8.307  1.00  0.93           C  \\nATOM    307  C   ASP A  40      -8.721   2.896   9.105  1.00  0.93           C  \\nATOM    308  CB  ASP A  40      -7.858   5.244   9.257  1.00  0.93           C  \\nATOM    309  O   ASP A  40      -9.186   3.023  10.240  1.00  0.93           O  \\nATOM    310  CG  ASP A  40      -6.599   4.918  10.040  1.00  0.93           C  \\nATOM    311  OD1 ASP A  40      -5.945   3.894   9.745  1.00  0.93           O  \\nATOM    312  OD2 ASP A  40      -6.259   5.690  10.963  1.00  0.93           O  \\nATOM    313  N   THR A  41      -8.624   1.731   8.424  1.00  0.94           N  \\nATOM    314  CA  THR A  41      -8.925   0.447   9.047  1.00  0.94           C  \\nATOM    315  C   THR A  41      -7.643  -0.334   9.324  1.00  0.94           C  \\nATOM    316  CB  THR A  41      -9.862  -0.397   8.164  1.00  0.94           C  \\nATOM    317  O   THR A  41      -6.600  -0.056   8.729  1.00  0.94           O  \\nATOM    318  CG2 THR A  41     -11.144   0.363   7.838  1.00  0.94           C  \\nATOM    319  OG1 THR A  41      -9.190  -0.725   6.941  1.00  0.94           O  \\nATOM    320  N   PRO A  42      -7.635  -1.191  10.346  1.00  0.95           N  \\nATOM    321  CA  PRO A  42      -6.448  -2.006  10.613  1.00  0.95           C  \\nATOM    322  C   PRO A  42      -5.990  -2.799   9.391  1.00  0.95           C  \\nATOM    323  CB  PRO A  42      -6.908  -2.943  11.732  1.00  0.95           C  \\nATOM    324  O   PRO A  42      -4.790  -3.015   9.205  1.00  0.95           O  \\nATOM    325  CG  PRO A  42      -8.036  -2.221  12.396  1.00  0.95           C  \\nATOM    326  CD  PRO A  42      -8.740  -1.386  11.365  1.00  0.95           C  \\nATOM    327  N   ALA A  43      -6.935  -3.173   8.599  1.00  0.95           N  \\nATOM    328  CA  ALA A  43      -6.598  -3.917   7.388  1.00  0.95           C  \\nATOM    329  C   ALA A  43      -5.789  -3.055   6.422  1.00  0.95           C  \\nATOM    330  CB  ALA A  43      -7.865  -4.428   6.707  1.00  0.95           C  \\nATOM    331  O   ALA A  43      -4.767  -3.498   5.893  1.00  0.95           O  \\nATOM    332  N   ILE A  44      -6.232  -1.773   6.211  1.00  0.95           N  \\nATOM    333  CA  ILE A  44      -5.540  -0.862   5.307  1.00  0.95           C  \\nATOM    334  C   ILE A  44      -4.177  -0.493   5.890  1.00  0.95           C  \\nATOM    335  CB  ILE A  44      -6.372   0.413   5.043  1.00  0.95           C  \\nATOM    336  O   ILE A  44      -3.180  -0.439   5.166  1.00  0.95           O  \\nATOM    337  CG1 ILE A  44      -7.631   0.072   4.238  1.00  0.95           C  \\nATOM    338  CG2 ILE A  44      -5.529   1.468   4.321  1.00  0.95           C  \\nATOM    339  CD1 ILE A  44      -8.553   1.259   3.998  1.00  0.95           C  \\nATOM    340  N   ARG A  45      -4.125  -0.382   7.117  1.00  0.95           N  \\nATOM    341  CA  ARG A  45      -2.861  -0.066   7.774  1.00  0.95           C  \\nATOM    342  C   ARG A  45      -1.862  -1.208   7.619  1.00  0.95           C  \\nATOM    343  CB  ARG A  45      -3.087   0.235   9.258  1.00  0.95           C  \\nATOM    344  O   ARG A  45      -0.661  -0.973   7.470  1.00  0.95           O  \\nATOM    345  CG  ARG A  45      -3.666   1.615   9.525  1.00  0.95           C  \\nATOM    346  CD  ARG A  45      -3.277   2.132  10.903  1.00  0.95           C  \\nATOM    347  NE  ARG A  45      -3.825   3.462  11.154  1.00  0.95           N  \\nATOM    348  NH1 ARG A  45      -2.745   3.752  13.175  1.00  0.95           N  \\nATOM    349  NH2 ARG A  45      -4.114   5.398  12.355  1.00  0.95           N  \\nATOM    350  CZ  ARG A  45      -3.560   4.201  12.227  1.00  0.95           C  \\nATOM    351  N   GLY A  46      -2.397  -2.425   7.734  1.00  0.97           N  \\nATOM    352  CA  GLY A  46      -1.547  -3.580   7.493  1.00  0.97           C  \\nATOM    353  C   GLY A  46      -0.962  -3.609   6.094  1.00  0.97           C  \\nATOM    354  O   GLY A  46       0.223  -3.898   5.917  1.00  0.97           O  \\nATOM    355  N   MET A  47      -1.806  -3.248   5.155  1.00  0.97           N  \\nATOM    356  CA  MET A  47      -1.347  -3.199   3.769  1.00  0.97           C  \\nATOM    357  C   MET A  47      -0.303  -2.103   3.581  1.00  0.97           C  \\nATOM    358  CB  MET A  47      -2.524  -2.969   2.820  1.00  0.97           C  \\nATOM    359  O   MET A  47       0.713  -2.316   2.916  1.00  0.97           O  \\nATOM    360  CG  MET A  47      -3.475  -4.151   2.725  1.00  0.97           C  \\nATOM    361  SD  MET A  47      -4.823  -3.873   1.512  1.00  0.97           S  \\nATOM    362  CE  MET A  47      -5.830  -5.353   1.809  1.00  0.97           C  \\nATOM    363  N   ILE A  48      -0.542  -0.979   4.181  1.00  0.96           N  \\nATOM    364  CA  ILE A  48       0.374   0.154   4.100  1.00  0.96           C  \\nATOM    365  C   ILE A  48       1.716  -0.223   4.724  1.00  0.96           C  \\nATOM    366  CB  ILE A  48      -0.209   1.404   4.796  1.00  0.96           C  \\nATOM    367  O   ILE A  48       2.774   0.086   4.170  1.00  0.96           O  \\nATOM    368  CG1 ILE A  48      -1.421   1.931   4.019  1.00  0.96           C  \\nATOM    369  CG2 ILE A  48       0.862   2.489   4.943  1.00  0.96           C  \\nATOM    370  CD1 ILE A  48      -2.198   3.018   4.748  1.00  0.96           C  \\nATOM    371  N   ASN A  49       1.665  -0.929   5.772  1.00  0.97           N  \\nATOM    372  CA  ASN A  49       2.883  -1.344   6.460  1.00  0.97           C  \\nATOM    373  C   ASN A  49       3.736  -2.260   5.587  1.00  0.97           C  \\nATOM    374  CB  ASN A  49       2.543  -2.036   7.782  1.00  0.97           C  \\nATOM    375  O   ASN A  49       4.964  -2.163   5.594  1.00  0.97           O  \\nATOM    376  CG  ASN A  49       2.155  -1.056   8.872  1.00  0.97           C  \\nATOM    377  ND2 ASN A  49       1.449  -1.544   9.885  1.00  0.97           N  \\nATOM    378  OD1 ASN A  49       2.487   0.131   8.803  1.00  0.97           O  \\nATOM    379  N   ALA A  50       3.084  -3.040   4.871  1.00  0.96           N  \\nATOM    380  CA  ALA A  50       3.779  -3.973   3.988  1.00  0.96           C  \\nATOM    381  C   ALA A  50       4.525  -3.230   2.884  1.00  0.96           C  \\nATOM    382  CB  ALA A  50       2.793  -4.969   3.384  1.00  0.96           C  \\nATOM    383  O   ALA A  50       5.558  -3.699   2.400  1.00  0.96           O  \\nATOM    384  N   VAL A  51       3.971  -2.049   2.547  1.00  0.96           N  \\nATOM    385  CA  VAL A  51       4.593  -1.308   1.455  1.00  0.96           C  \\nATOM    386  C   VAL A  51       4.965   0.096   1.928  1.00  0.96           C  \\nATOM    387  CB  VAL A  51       3.663  -1.225   0.223  1.00  0.96           C  \\nATOM    388  O   VAL A  51       4.906   1.055   1.155  1.00  0.96           O  \\nATOM    389  CG1 VAL A  51       3.512  -2.597  -0.432  1.00  0.96           C  \\nATOM    390  CG2 VAL A  51       2.299  -0.666   0.622  1.00  0.96           C  \\nATOM    391  N   SER A  52       5.338   0.280   3.151  1.00  0.96           N  \\nATOM    392  CA  SER A  52       5.590   1.561   3.804  1.00  0.96           C  \\nATOM    393  C   SER A  52       6.708   2.327   3.104  1.00  0.96           C  \\nATOM    394  CB  SER A  52       5.949   1.351   5.275  1.00  0.96           C  \\nATOM    395  O   SER A  52       6.700   3.560   3.077  1.00  0.96           O  \\nATOM    396  OG  SER A  52       7.137   0.588   5.400  1.00  0.96           O  \\nATOM    397  N   PHE A  53       7.576   1.668   2.486  1.00  0.96           N  \\nATOM    398  CA  PHE A  53       8.729   2.303   1.858  1.00  0.96           C  \\nATOM    399  C   PHE A  53       8.396   2.748   0.439  1.00  0.96           C  \\nATOM    400  CB  PHE A  53       9.927   1.348   1.841  1.00  0.96           C  \\nATOM    401  O   PHE A  53       9.202   3.415  -0.214  1.00  0.96           O  \\nATOM    402  CG  PHE A  53       9.624   0.005   1.235  1.00  0.96           C  \\nATOM    403  CD1 PHE A  53       9.187  -1.049   2.029  1.00  0.96           C  \\nATOM    404  CD2 PHE A  53       9.776  -0.205  -0.130  1.00  0.96           C  \\nATOM    405  CE1 PHE A  53       8.905  -2.294   1.470  1.00  0.96           C  \\nATOM    406  CE2 PHE A  53       9.497  -1.446  -0.695  1.00  0.96           C  \\nATOM    407  CZ  PHE A  53       9.062  -2.489   0.107  1.00  0.96           C  \\nATOM    408  N   MET A  54       7.199   2.454   0.010  1.00  0.96           N  \\nATOM    409  CA  MET A  54       6.790   2.792  -1.351  1.00  0.96           C  \\nATOM    410  C   MET A  54       5.637   3.789  -1.340  1.00  0.96           C  \\nATOM    411  CB  MET A  54       6.386   1.533  -2.120  1.00  0.96           C  \\nATOM    412  O   MET A  54       5.242   4.300  -2.390  1.00  0.96           O  \\nATOM    413  CG  MET A  54       7.527   0.551  -2.332  1.00  0.96           C  \\nATOM    414  SD  MET A  54       6.971  -1.017  -3.105  1.00  0.96           S  \\nATOM    415  CE  MET A  54       6.516  -0.416  -4.756  1.00  0.96           C  \\nATOM    416  N   VAL A  55       5.111   4.020  -0.227  1.00  0.97           N  \\nATOM    417  CA  VAL A  55       3.937   4.886  -0.197  1.00  0.97           C  \\nATOM    418  C   VAL A  55       4.123   5.974   0.858  1.00  0.97           C  \\nATOM    419  CB  VAL A  55       2.648   4.083   0.087  1.00  0.97           C  \\nATOM    420  O   VAL A  55       4.924   5.819   1.783  1.00  0.97           O  \\nATOM    421  CG1 VAL A  55       2.390   3.065  -1.023  1.00  0.97           C  \\nATOM    422  CG2 VAL A  55       2.741   3.387   1.444  1.00  0.97           C  \\nATOM    423  N   LYS A  56       3.457   7.034   0.606  1.00  0.97           N  \\nATOM    424  CA  LYS A  56       3.353   8.135   1.559  1.00  0.97           C  \\nATOM    425  C   LYS A  56       1.927   8.274   2.086  1.00  0.97           C  \\nATOM    426  CB  LYS A  56       3.804   9.447   0.915  1.00  0.97           C  \\nATOM    427  O   LYS A  56       0.974   8.326   1.306  1.00  0.97           O  \\nATOM    428  CG  LYS A  56       3.836  10.629   1.873  1.00  0.97           C  \\nATOM    429  CD  LYS A  56       4.335  11.893   1.186  1.00  0.97           C  \\nATOM    430  CE  LYS A  56       4.355  13.079   2.140  1.00  0.97           C  \\nATOM    431  NZ  LYS A  56       4.862  14.317   1.476  1.00  0.97           N  \\nATOM    432  N   VAL A  57       1.819   8.276   3.366  1.00  0.96           N  \\nATOM    433  CA  VAL A  57       0.502   8.338   3.991  1.00  0.96           C  \\nATOM    434  C   VAL A  57       0.316   9.692   4.671  1.00  0.96           C  \\nATOM    435  CB  VAL A  57       0.305   7.196   5.013  1.00  0.96           C  \\nATOM    436  O   VAL A  57       1.189  10.146   5.413  1.00  0.96           O  \\nATOM    437  CG1 VAL A  57      -1.077   7.282   5.659  1.00  0.96           C  \\nATOM    438  CG2 VAL A  57       0.499   5.838   4.340  1.00  0.96           C  \\nATOM    439  N   GLU A  58      -0.789  10.362   4.373  1.00  0.94           N  \\nATOM    440  CA  GLU A  58      -1.191  11.616   5.003  1.00  0.94           C  \\nATOM    441  C   GLU A  58      -2.549  11.481   5.685  1.00  0.94           C  \\nATOM    442  CB  GLU A  58      -1.229  12.748   3.973  1.00  0.94           C  \\nATOM    443  O   GLU A  58      -3.509  11.000   5.079  1.00  0.94           O  \\nATOM    444  CG  GLU A  58       0.124  13.057   3.348  1.00  0.94           C  \\nATOM    445  CD  GLU A  58       0.070  14.184   2.329  1.00  0.94           C  \\nATOM    446  OE1 GLU A  58       1.143  14.674   1.909  1.00  0.94           O  \\nATOM    447  OE2 GLU A  58      -1.054  14.581   1.948  1.00  0.94           O  \\nATOM    448  N   GLU A  59      -2.607  11.763   7.038  1.00  0.88           N  \\nATOM    449  CA  GLU A  59      -3.875  11.714   7.760  1.00  0.88           C  \\nATOM    450  C   GLU A  59      -4.691  12.983   7.529  1.00  0.88           C  \\nATOM    451  CB  GLU A  59      -3.633  11.510   9.258  1.00  0.88           C  \\nATOM    452  O   GLU A  59      -4.131  14.074   7.405  1.00  0.88           O  \\nATOM    453  CG  GLU A  59      -2.959  10.189   9.598  1.00  0.88           C  \\nATOM    454  CD  GLU A  59      -2.720  10.003  11.088  1.00  0.88           C  \\nATOM    455  OE1 GLU A  59      -2.365   8.879  11.510  1.00  0.88           O  \\nATOM    456  OE2 GLU A  59      -2.890  10.989  11.839  1.00  0.88           O  \\n\",\"pdb\");\n\tviewer_16267737060429387.setStyle({\"cartoon\": {\"colorscheme\": {\"prop\": \"b\", \"gradient\": \"roygb\", \"min\": 0, \"max\": 1}}});\n\tviewer_16267737060429387.zoomTo();\nviewer_16267737060429387.render();\n});\n</script>"
              }
            ],
            "_view_module": "@jupyter-widgets/output",
            "_model_module_version": "1.0.0",
            "_view_count": null,
            "_view_module_version": "1.0.0",
            "layout": "IPY_MODEL_26ffb142383e4105890c16d0e701c6eb",
            "_model_module": "@jupyter-widgets/output"
          }
        },
        "7b43143030d64d228fa0ce05caf62ca4": {
          "model_module": "@jupyter-widgets/controls",
          "model_name": "DescriptionStyleModel",
          "state": {
            "_view_name": "StyleView",
            "_model_name": "DescriptionStyleModel",
            "description_width": "",
            "_view_module": "@jupyter-widgets/base",
            "_model_module_version": "1.5.0",
            "_view_count": null,
            "_view_module_version": "1.2.0",
            "_model_module": "@jupyter-widgets/controls"
          }
        },
        "4ea197b471bb4bcbb30a58948c020493": {
          "model_module": "@jupyter-widgets/base",
          "model_name": "LayoutModel",
          "state": {
            "_view_name": "LayoutView",
            "grid_template_rows": null,
            "right": null,
            "justify_content": null,
            "_view_module": "@jupyter-widgets/base",
            "overflow": null,
            "_model_module_version": "1.2.0",
            "_view_count": null,
            "flex_flow": null,
            "width": null,
            "min_width": null,
            "border": null,
            "align_items": null,
            "bottom": null,
            "_model_module": "@jupyter-widgets/base",
            "top": null,
            "grid_column": null,
            "overflow_y": null,
            "overflow_x": null,
            "grid_auto_flow": null,
            "grid_area": null,
            "grid_template_columns": null,
            "flex": null,
            "_model_name": "LayoutModel",
            "justify_items": null,
            "grid_row": null,
            "max_height": null,
            "align_content": null,
            "visibility": null,
            "align_self": null,
            "height": null,
            "min_height": null,
            "padding": null,
            "grid_auto_rows": null,
            "grid_gap": null,
            "max_width": null,
            "order": null,
            "_view_module_version": "1.2.0",
            "grid_template_areas": null,
            "object_position": null,
            "object_fit": null,
            "grid_auto_columns": null,
            "margin": null,
            "display": null,
            "left": null
          }
        },
        "8d46c7e1c3af42eebcb44d0412f775da": {
          "model_module": "@jupyter-widgets/controls",
          "model_name": "DescriptionStyleModel",
          "state": {
            "_view_name": "StyleView",
            "_model_name": "DescriptionStyleModel",
            "description_width": "",
            "_view_module": "@jupyter-widgets/base",
            "_model_module_version": "1.5.0",
            "_view_count": null,
            "_view_module_version": "1.2.0",
            "_model_module": "@jupyter-widgets/controls"
          }
        },
        "e7283ecd53304977a0f208bbed5980f3": {
          "model_module": "@jupyter-widgets/base",
          "model_name": "LayoutModel",
          "state": {
            "_view_name": "LayoutView",
            "grid_template_rows": null,
            "right": null,
            "justify_content": null,
            "_view_module": "@jupyter-widgets/base",
            "overflow": null,
            "_model_module_version": "1.2.0",
            "_view_count": null,
            "flex_flow": null,
            "width": null,
            "min_width": null,
            "border": null,
            "align_items": null,
            "bottom": null,
            "_model_module": "@jupyter-widgets/base",
            "top": null,
            "grid_column": null,
            "overflow_y": null,
            "overflow_x": null,
            "grid_auto_flow": null,
            "grid_area": null,
            "grid_template_columns": null,
            "flex": null,
            "_model_name": "LayoutModel",
            "justify_items": null,
            "grid_row": null,
            "max_height": null,
            "align_content": null,
            "visibility": null,
            "align_self": null,
            "height": null,
            "min_height": null,
            "padding": null,
            "grid_auto_rows": null,
            "grid_gap": null,
            "max_width": null,
            "order": null,
            "_view_module_version": "1.2.0",
            "grid_template_areas": null,
            "object_position": null,
            "object_fit": null,
            "grid_auto_columns": null,
            "margin": null,
            "display": null,
            "left": null
          }
        },
        "f3c969a5d00b41bf93fcb3c402a1225c": {
          "model_module": "@jupyter-widgets/controls",
          "model_name": "DescriptionStyleModel",
          "state": {
            "_view_name": "StyleView",
            "_model_name": "DescriptionStyleModel",
            "description_width": "",
            "_view_module": "@jupyter-widgets/base",
            "_model_module_version": "1.5.0",
            "_view_count": null,
            "_view_module_version": "1.2.0",
            "_model_module": "@jupyter-widgets/controls"
          }
        },
        "0371e886d0e947ccb410f6478bdc1176": {
          "model_module": "@jupyter-widgets/base",
          "model_name": "LayoutModel",
          "state": {
            "_view_name": "LayoutView",
            "grid_template_rows": null,
            "right": null,
            "justify_content": null,
            "_view_module": "@jupyter-widgets/base",
            "overflow": null,
            "_model_module_version": "1.2.0",
            "_view_count": null,
            "flex_flow": null,
            "width": null,
            "min_width": null,
            "border": null,
            "align_items": null,
            "bottom": null,
            "_model_module": "@jupyter-widgets/base",
            "top": null,
            "grid_column": null,
            "overflow_y": null,
            "overflow_x": null,
            "grid_auto_flow": null,
            "grid_area": null,
            "grid_template_columns": null,
            "flex": null,
            "_model_name": "LayoutModel",
            "justify_items": null,
            "grid_row": null,
            "max_height": null,
            "align_content": null,
            "visibility": null,
            "align_self": null,
            "height": null,
            "min_height": null,
            "padding": null,
            "grid_auto_rows": null,
            "grid_gap": null,
            "max_width": null,
            "order": null,
            "_view_module_version": "1.2.0",
            "grid_template_areas": null,
            "object_position": null,
            "object_fit": null,
            "grid_auto_columns": null,
            "margin": null,
            "display": null,
            "left": null
          }
        },
        "f550fedf28604b42ade79290f1bb2af2": {
          "model_module": "@jupyter-widgets/controls",
          "model_name": "DescriptionStyleModel",
          "state": {
            "_view_name": "StyleView",
            "_model_name": "DescriptionStyleModel",
            "description_width": "",
            "_view_module": "@jupyter-widgets/base",
            "_model_module_version": "1.5.0",
            "_view_count": null,
            "_view_module_version": "1.2.0",
            "_model_module": "@jupyter-widgets/controls"
          }
        },
        "067d659251c84841b892770a017e52f9": {
          "model_module": "@jupyter-widgets/base",
          "model_name": "LayoutModel",
          "state": {
            "_view_name": "LayoutView",
            "grid_template_rows": null,
            "right": null,
            "justify_content": null,
            "_view_module": "@jupyter-widgets/base",
            "overflow": null,
            "_model_module_version": "1.2.0",
            "_view_count": null,
            "flex_flow": null,
            "width": null,
            "min_width": null,
            "border": null,
            "align_items": null,
            "bottom": null,
            "_model_module": "@jupyter-widgets/base",
            "top": null,
            "grid_column": null,
            "overflow_y": null,
            "overflow_x": null,
            "grid_auto_flow": null,
            "grid_area": null,
            "grid_template_columns": null,
            "flex": null,
            "_model_name": "LayoutModel",
            "justify_items": null,
            "grid_row": null,
            "max_height": null,
            "align_content": null,
            "visibility": null,
            "align_self": null,
            "height": null,
            "min_height": null,
            "padding": null,
            "grid_auto_rows": null,
            "grid_gap": null,
            "max_width": null,
            "order": null,
            "_view_module_version": "1.2.0",
            "grid_template_areas": null,
            "object_position": null,
            "object_fit": null,
            "grid_auto_columns": null,
            "margin": null,
            "display": null,
            "left": null
          }
        },
        "26ffb142383e4105890c16d0e701c6eb": {
          "model_module": "@jupyter-widgets/base",
          "model_name": "LayoutModel",
          "state": {
            "_view_name": "LayoutView",
            "grid_template_rows": null,
            "right": null,
            "justify_content": null,
            "_view_module": "@jupyter-widgets/base",
            "overflow": null,
            "_model_module_version": "1.2.0",
            "_view_count": null,
            "flex_flow": null,
            "width": null,
            "min_width": null,
            "border": null,
            "align_items": null,
            "bottom": null,
            "_model_module": "@jupyter-widgets/base",
            "top": null,
            "grid_column": null,
            "overflow_y": null,
            "overflow_x": null,
            "grid_auto_flow": null,
            "grid_area": null,
            "grid_template_columns": null,
            "flex": null,
            "_model_name": "LayoutModel",
            "justify_items": null,
            "grid_row": null,
            "max_height": null,
            "align_content": null,
            "visibility": null,
            "align_self": null,
            "height": null,
            "min_height": null,
            "padding": null,
            "grid_auto_rows": null,
            "grid_gap": null,
            "max_width": null,
            "order": null,
            "_view_module_version": "1.2.0",
            "grid_template_areas": null,
            "object_position": null,
            "object_fit": null,
            "grid_auto_columns": null,
            "margin": null,
            "display": null,
            "left": null
          }
        }
      }
    }
  },
  "cells": [
    {
      "cell_type": "markdown",
      "metadata": {
        "id": "view-in-github",
        "colab_type": "text"
      },
      "source": [
        "<a href=\"https://colab.research.google.com/github/sergi-m/AlphaFold2-GoogleColab/blob/main/AlphaFold2PredictStructure.ipynb\" target=\"_parent\"><img src=\"https://colab.research.google.com/assets/colab-badge.svg\" alt=\"Open In Colab\"/></a>"
      ]
    },
    {
      "cell_type": "markdown",
      "metadata": {
        "id": "G4yBrceuFbf3"
      },
      "source": [
        "#Protein structure prediction with AlphaFold2 and MMseqs2"
      ]
    },
    {
      "cell_type": "markdown",
      "metadata": {
        "id": "rada7J84dKP8"
      },
      "source": [
        "**Further development and bug fixes will be published here: https://colab.research.google.com/github/sokrypton/ColabFold/blob/main/AlphaFold2.ipynb**\n",
        "\n",
        "Easy to use version of AlphaFold 2 (Jumper et al. 2021, Nature) using an API hosted at the Södinglab based on the MMseqs2 server (Mirdita et al. 2019, Bioinformatics) for the multiple sequence alignment creation.\n",
        "\n",
        "**Quickstart**\n",
        "1. Change the runtime type to GPU at \"Runtime\" -> \"Change runtime type\" (improves speed).\n",
        "2. Paste your protein sequence in the input field below.\n",
        "3. Press \"Runtime\" -> \"Run all\".\n",
        "4. The pipeline consists of 10 steps. The currently running steps is indicated by a circle with a stop sign next to it.\n",
        "\n",
        "**Result**\n",
        "\n",
        "1. PDB formated structures sorted by avg. pIDDT. (relaxed, unrelaxed).\n",
        "2. Plots of the model quality.\n",
        "3. Plots of the msa coverage.\n",
        "4. Parameter log file.\n",
        "5. A3M formatted input MSA.\n",
        "\n",
        "At the end of the job a download modal box will popup with a `jobname.result.zip` file.\n",
        "\n",
        "**Using a custom MSA as input**\n",
        "\n",
        "To predict the structure with a custom MSA (A3M formatted) (1) Past the input sequence into the \"query_sequence\" field. (2) Change the msa_mode: to \"custom\", (3) \"Runtime\" -> \"Run all\". (4) A upload box will appear at the end of the \"Input Protein ...\" box. Upload your A3M. \n",
        "\n",
        "To generate good input MSAs HHblits can be used here: https://toolkit.tuebingen.mpg.de/tools/hhblits\n",
        "Hit submit you query -> click \"Query Template MSA\" -> \"Download Full A3M\".\n",
        "Download the a3m file and upload it to the notebook!\n",
        "\n",
        "**Troubleshooting**\n",
        "* Try to restart the session \"Runntime\" -> \"Factory reset runtime\".\n",
        "* Check your input sequence.\n",
        "\n",
        "**Known issues**\n",
        "* Colab assigns different type of GPUs, some might have not enough memory to predict the structure.\n",
        "* Browser can block the download of the result.\n",
        "\n",
        "**Limitations**\n",
        "* MSAs: MMseqs2 is very precise and sensitive but might find less hits compared to HHblits/HMMer searched against BFD or Mgnify.\n",
        "* Computing resources: MMseqs2 can probably handle >20k requests per day since we run it only on 16 cores.\n",
        "\n",
        "For best results, we recommend using the full pipeline: https://github.com/deepmind/alphafold\n",
        "\n",
        "**Acknowledgements**\n",
        "\n",
        "Most of the python code was written by Sergey Ovchinnikov (@sokrypton). The API is hosted at the Södinglab (@SoedingL) and maintained by Milot Mirdita (@milot_mirdita). Martin Steinegger (@thesteinegger) integrated everything. Also credit to [David Koes](https://github.com/dkoes) for his awesome [py3Dmol](https://3dmol.csb.pitt.edu/) plugin, without whom these notebooks would be quite boring!\n",
        "\n",
        "For related notebooks see: [ColabFold](https://github.com/sokrypton/ColabFold)"
      ]
    },
    {
      "cell_type": "code",
      "metadata": {
        "id": "qp9c7pTSdIbu",
        "cellView": "form"
      },
      "source": [
        "#@title Input protein sequence here before you \"Run all\"\n",
        "from google.colab import files\n",
        "import os\n",
        "import os.path\n",
        "import re\n",
        "\n",
        "query_sequence = 'MAKTIKITQTRSAIGRLPKHKATLLGLGLRRIGHTVEREDTPAIRGMINAVSFMVKVEE' #@param {type:\"string\"}\n",
        "# remove whitespaces\n",
        "query_sequence = \"\".join(query_sequence.split())\n",
        "query_sequence = re.sub(r'[^a-zA-Z]','', query_sequence).upper()\n",
        "\n",
        "jobname = 'RL30_ECOLI' #@param {type:\"string\"}\n",
        "# remove whitespaces\n",
        "jobname = \"\".join(jobname.split())\n",
        "jobname = re.sub(r'\\W+', '', jobname)\n",
        "\n",
        "with open(f\"{jobname}.fasta\", \"w\") as text_file:\n",
        "    text_file.write(\">1\\n%s\" % query_sequence.upper())\n",
        "\n",
        "# number of models to use\n",
        "#@markdown ---\n",
        "#@markdown ### Advanced settings\n",
        "num_models = 5 #@param [1,2,3,4,5] {type:\"raw\"}\n",
        "msa_mode = \"MMseqs2\" #@param [\"MMseqs2\",\"single_sequence\",\"custom\"]\n",
        "use_msa = True if msa_mode == \"MMseqs2\" else False\n",
        "use_custom_msa = True if msa_mode == \"custom\" else False\n",
        "use_amber = False #@param {type:\"boolean\"}\n",
        "use_templates = False #@param {type:\"boolean\"}\n",
        "#@markdown ---\n",
        "\n",
        "with open(f\"{jobname}.log\", \"w\") as text_file:\n",
        "    text_file.write(\"num_models=%s\\n\" % num_models)\n",
        "    text_file.write(\"use_amber=%s\\n\" % use_amber)\n",
        "    text_file.write(\"use_msa=%s\\n\" % use_msa)\n",
        "    text_file.write(\"msa_mode=%s\\n\" % msa_mode)\n",
        "    text_file.write(\"use_templates=%s\\n\" % use_templates)\n",
        "    \n",
        "if use_custom_msa and not os.path.isfile(f\"{jobname}.custom.a3m\"):\n",
        "  custom_msa_dict = files.upload()\n",
        "  custom_msa = list(custom_msa_dict.keys())[0]\n",
        "  os.rename(custom_msa, f\"{jobname}.custom.a3m\")\n",
        "  print(f\"moving {custom_msa} to {jobname}.custom.a3m\")"
      ],
      "execution_count": null,
      "outputs": []
    },
    {
      "cell_type": "code",
      "metadata": {
        "id": "a-COJivqdM8V",
        "cellView": "form"
      },
      "source": [
        "#@title Install dependencies\n",
        "%%bash -s $use_amber $use_msa $use_templates\n",
        "\n",
        "USE_AMBER=$1\n",
        "USE_MSA=$2\n",
        "USE_TEMPLATES=$3\n",
        "\n",
        "if [ ! -f AF2_READY ]; then\n",
        "  # install dependencies\n",
        "  pip -q install biopython\n",
        "  pip -q install dm-haiku\n",
        "  pip -q install ml-collections\n",
        "  pip -q install py3Dmol\n",
        "\n",
        "  # download model\n",
        "  if [ ! -d \"alphafold/\" ]; then\n",
        "    git clone https://github.com/deepmind/alphafold.git --quiet\n",
        "    mv alphafold alphafold_\n",
        "    mv alphafold_/alphafold .\n",
        "    # remove \"END\" from PDBs, otherwise biopython complains\n",
        "    sed -i \"s/pdb_lines.append('END')//\" /content/alphafold/common/protein.py\n",
        "    sed -i \"s/pdb_lines.append('ENDMDL')//\" /content/alphafold/common/protein.py\n",
        "  fi\n",
        "\n",
        "  # download model params (~1 min)\n",
        "  if [ ! -d \"params/\" ]; then\n",
        "    wget -qnc https://storage.googleapis.com/alphafold/alphafold_params_2021-07-14.tar\n",
        "    mkdir params\n",
        "    tar -xf alphafold_params_2021-07-14.tar -C params/\n",
        "    rm alphafold_params_2021-07-14.tar\n",
        "  fi\n",
        "  touch AF2_READY\n",
        "fi\n",
        "# download libraries for interfacing with MMseqs2 API\n",
        "if [ ${USE_MSA} == \"True\" ] || [ ${USE_TEMPLATES} == \"True\" ]; then\n",
        "  if [ ! -f MMSEQ2_READY ]; then\n",
        "    apt-get -qq -y update 2>&1 1>/dev/null\n",
        "    apt-get -qq -y install jq curl zlib1g gawk 2>&1 1>/dev/null\n",
        "    touch MMSEQ2_READY\n",
        "  fi\n",
        "fi\n",
        "# setup conda\n",
        "if [ ${USE_AMBER} == \"True\" ] || [ ${USE_TEMPLATES} == \"True\" ]; then\n",
        "  if [ ! -f CONDA_READY ]; then\n",
        "    wget -qnc https://repo.anaconda.com/miniconda/Miniconda3-latest-Linux-x86_64.sh\n",
        "    bash Miniconda3-latest-Linux-x86_64.sh -bfp /usr/local 2>&1 1>/dev/null\n",
        "    rm Miniconda3-latest-Linux-x86_64.sh\n",
        "    touch CONDA_READY\n",
        "  fi\n",
        "fi\n",
        "# setup template search\n",
        "if [ ${USE_TEMPLATES} == \"True\" ] && [ ! -f HH_READY ]; then\n",
        "  conda install -y -q -c conda-forge -c bioconda kalign3=3.2.2 hhsuite=3.3.0 python=3.7 2>&1 1>/dev/null\n",
        "  touch HH_READY\n",
        "fi\n",
        "# setup openmm for amber refinement\n",
        "if [ ${USE_AMBER} == \"True\" ] && [ ! -f AMBER_READY ]; then\n",
        "  conda install -y -q -c conda-forge openmm=7.5.1 python=3.7 pdbfixer 2>&1 1>/dev/null\n",
        "  (cd /usr/local/lib/python3.7/site-packages; patch -s -p0 < /content/alphafold_/docker/openmm.patch)\n",
        "\n",
        "  wget -qnc https://git.scicore.unibas.ch/schwede/openstructure/-/raw/7102c63615b64735c4941278d92b554ec94415f8/modules/mol/alg/src/stereo_chemical_props.txt\n",
        "  mv stereo_chemical_props.txt alphafold/common/\n",
        "  touch AMBER_READY\n",
        "fi"
      ],
      "execution_count": null,
      "outputs": []
    },
    {
      "cell_type": "code",
      "metadata": {
        "colab": {
          "base_uri": "https://localhost:8080/"
        },
        "id": "fyPfYsOVdOVb",
        "cellView": "form",
        "outputId": "2194a6a9-ce38-40a4-b8d4-8f51f45264a9"
      },
      "source": [
        "#@title Call MMseqs2 to get MSA/templates\n",
        "%%bash -s $use_amber $use_msa $use_templates $jobname\n",
        "USE_AMBER=$1\n",
        "USE_MSA=$2\n",
        "USE_TEMPLATES=$3\n",
        "NAME=$4\n",
        "if [ ${USE_MSA} == \"True\" ] || [ ${USE_TEMPLATES} == \"True\" ]; then\n",
        "  if [ ! -f ${NAME}.mmseqs2.tar.gz ]; then\n",
        "    # query MMseqs2 webserver\n",
        "    echo \"submitting job\"\n",
        "    ID=$(curl -s -F q=@${NAME}.fasta -F mode=all https://a3m.mmseqs.com/ticket/msa | jq -r '.id')\n",
        "    STATUS=$(curl -s https://a3m.mmseqs.com/ticket/${ID} | jq -r '.status')\n",
        "    while [ \"${STATUS}\" == \"RUNNING\" ]; do\n",
        "      STATUS=$(curl -s https://a3m.mmseqs.com/ticket/${ID} | jq -r '.status')\n",
        "      sleep 1\n",
        "    done\n",
        "    if [ \"${STATUS}\" == \"COMPLETE\" ]; then\n",
        "      curl -s https://a3m.mmseqs.com/result/download/${ID} > ${NAME}.mmseqs2.tar.gz\n",
        "      tar xzf ${NAME}.mmseqs2.tar.gz\n",
        "      tr -d '\\000' < uniref.a3m > ${NAME}.a3m\n",
        "      rm uniref.a3m\n",
        "      mv pdb70.m8 ${NAME}.m8\n",
        "    else\n",
        "      echo \"MMseqs2 server did not return a valid result.\"\n",
        "      exit 1\n",
        "    fi\n",
        "  fi\n",
        "  if [ ${USE_MSA} == \"True\" ]; then\n",
        "    echo \"Found $(grep -c \">\" ${NAME}.a3m) sequences (after redundacy filtering)\"\n",
        "  fi\n",
        "  if [ ${USE_TEMPLATES} == \"True\" ] && [ ! -f ${NAME}_hhm.ffindex ]; then\n",
        "    echo \"getting templates\"\n",
        "    if [ ! -d templates ]; then\n",
        "      mkdir templates/\n",
        "    fi\n",
        "    printf \"pdb\\tevalue\\n\"\n",
        "    head -n 20 ${NAME}.m8 | awk '{print $2\"\\t\"$11}'\n",
        "    TMPL=$(head -n 20 ${NAME}.m8 | awk '{printf $2\",\"}')\n",
        "    curl -s https://a3m-templates.mmseqs.com/template/${TMPL} | tar xzf - -C templates/\n",
        "    mv templates/pdb70_a3m.ffdata ${NAME}_a3m.ffdata\n",
        "    mv templates/pdb70_a3m.ffindex ${NAME}_a3m.ffindex\n",
        "    mv templates/pdb70_hhm.ffdata ${NAME}_hhm.ffdata\n",
        "    mv templates/pdb70_hhm.ffindex ${NAME}_hhm.ffindex\n",
        "    cp ${NAME}_a3m.ffindex ${NAME}_cs219.ffindex\n",
        "    touch ${NAME}_cs219.ffdata\n",
        "  fi\n",
        "fi"
      ],
      "execution_count": null,
      "outputs": [
        {
          "output_type": "stream",
          "text": [
            "submitting job\n",
            "Found 3351 sequences (after redundacy filtering)\n"
          ],
          "name": "stdout"
        }
      ]
    },
    {
      "cell_type": "code",
      "metadata": {
        "id": "o3vLbOSQdPmH",
        "cellView": "form"
      },
      "source": [
        "#@title Setup model\n",
        "# the following code is written by Sergey Ovchinnikov\n",
        "# setup the model\n",
        "if \"model\" not in dir():\n",
        "  import warnings\n",
        "  warnings.filterwarnings('ignore')\n",
        "\n",
        "  from absl import logging\n",
        "  logging.set_verbosity(\"error\")\n",
        "\n",
        "  import os\n",
        "  import sys\n",
        "  os.environ['TF_CPP_MIN_LOG_LEVEL'] = '3'\n",
        "  import tensorflow as tf\n",
        "  import numpy as np\n",
        "  import pickle\n",
        "  import py3Dmol\n",
        "  import matplotlib.pyplot as plt\n",
        "  from alphafold.common import protein\n",
        "  from alphafold.data import pipeline\n",
        "  from alphafold.data import templates\n",
        "  from alphafold.model import data\n",
        "  from alphafold.model import config\n",
        "  from alphafold.model import model\n",
        "  from alphafold.data.tools import hhsearch\n",
        "\n",
        "  import ipywidgets\n",
        "  from ipywidgets import interact, fixed\n",
        "\n",
        "  tf.get_logger().setLevel('ERROR')\n",
        "\n",
        "if use_amber and \"relax\" not in dir():\n",
        "  sys.path.insert(0, '/usr/local/lib/python3.7/site-packages/')\n",
        "  from alphafold.relax import relax\n",
        "\n",
        "if \"model_params\" not in dir(): model_params = {}\n",
        "for model_name in [\"model_1\",\"model_2\",\"model_3\",\"model_4\",\"model_5\"][:num_models]:\n",
        "  if model_name not in model_params:\n",
        "    model_config = config.model_config(model_name)\n",
        "    model_config.data.eval.num_ensemble = 1\n",
        "    model_params[model_name] = data.get_model_haiku_params(model_name=model_name, data_dir=\".\")\n",
        "    if model_name == \"model_1\":\n",
        "      model_runner_1 = model.RunModel(model_config, model_params[model_name])\n",
        "    if model_name == \"model_3\":\n",
        "      model_runner_3 = model.RunModel(model_config, model_params[model_name])\n",
        "\n",
        "def mk_mock_template(query_sequence):\n",
        "  # since alphafold's model requires a template input\n",
        "  # we create a blank example w/ zero input, confidence -1\n",
        "  ln = len(query_sequence)\n",
        "  output_templates_sequence = \"-\"*ln\n",
        "  output_confidence_scores = np.full(ln,-1)\n",
        "  templates_all_atom_positions = np.zeros((ln, templates.residue_constants.atom_type_num, 3))\n",
        "  templates_all_atom_masks = np.zeros((ln, templates.residue_constants.atom_type_num))\n",
        "  templates_aatype = templates.residue_constants.sequence_to_onehot(output_templates_sequence,\n",
        "                                                                    templates.residue_constants.HHBLITS_AA_TO_ID)\n",
        "  template_features = {'template_all_atom_positions': templates_all_atom_positions[None],\n",
        "                       'template_all_atom_masks': templates_all_atom_masks[None],\n",
        "                       'template_sequence': [f'none'.encode()],\n",
        "                       'template_aatype': np.array(templates_aatype)[None],\n",
        "                       'template_confidence_scores': output_confidence_scores[None],\n",
        "                       'template_domain_names': [f'none'.encode()],\n",
        "                       'template_release_date': [f'none'.encode()]}\n",
        "  return template_features\n",
        "\n",
        "def mk_template(jobname):\n",
        "  template_featurizer = templates.TemplateHitFeaturizer(\n",
        "      mmcif_dir=\"templates/\",\n",
        "      max_template_date=\"2100-01-01\",\n",
        "      max_hits=20,\n",
        "      kalign_binary_path=\"kalign\",\n",
        "      release_dates_path=None,\n",
        "      obsolete_pdbs_path=None)\n",
        "\n",
        "  hhsearch_pdb70_runner = hhsearch.HHSearch(binary_path=\"hhsearch\",databases=[jobname])\n",
        "\n",
        "  a3m_lines = \"\\n\".join(open(f\"{jobname}.a3m\",\"r\").readlines())\n",
        "  hhsearch_result = hhsearch_pdb70_runner.query(a3m_lines)\n",
        "  hhsearch_hits = pipeline.parsers.parse_hhr(hhsearch_result)\n",
        "  \n",
        "  #print(hhsearch_hits)\n",
        "\n",
        "  templates_result = template_featurizer.get_templates(query_sequence=query_sequence,\n",
        "                                                       query_pdb_code=None,\n",
        "                                                       query_release_date=None,\n",
        "                                                       hhr_hits=hhsearch_hits)\n",
        "  return templates_result.features\n",
        "\n",
        "def set_bfactor(pdb_filename, bfac):\n",
        "  I = open(pdb_filename,\"r\").readlines()\n",
        "  O = open(pdb_filename,\"w\")\n",
        "  for line in I:\n",
        "    if line[0:6] == \"ATOM  \":\n",
        "      seq_id = int(line[23:26].strip()) - 1\n",
        "      O.write(\"{prefix}{bfac:6.2f}{suffix}\".format(prefix=line[:60], bfac=bfac[seq_id], suffix=line[66:]))\n",
        "  O.close()\n",
        "\n",
        "def predict_structure(prefix, feature_dict, do_relax=True, random_seed=0):  \n",
        "  \"\"\"Predicts structure using AlphaFold for the given sequence.\"\"\"\n",
        "\n",
        "  # Run the models.\n",
        "  plddts = []\n",
        "  unrelaxed_pdb_lines = []\n",
        "  relaxed_pdb_lines = []\n",
        "\n",
        "  for model_name, params in model_params.items():\n",
        "    print(f\"running {model_name}\")\n",
        "    # swap params to avoid recompiling\n",
        "    # note: models 1,2 have diff number of params compared to models 3,4,5\n",
        "    if any(str(m) in model_name for m in [1,2]): model_runner = model_runner_1\n",
        "    if any(str(m) in model_name for m in [3,4,5]): model_runner = model_runner_3\n",
        "    model_runner.params = params\n",
        "    \n",
        "    processed_feature_dict = model_runner.process_features(feature_dict, random_seed=random_seed)\n",
        "    prediction_result = model_runner.predict(processed_feature_dict)\n",
        "    unrelaxed_protein = protein.from_prediction(processed_feature_dict,prediction_result)\n",
        "    unrelaxed_pdb_lines.append(protein.to_pdb(unrelaxed_protein))\n",
        "    plddts.append(prediction_result['plddt'])\n",
        "\n",
        "    if do_relax:\n",
        "      # Relax the prediction.\n",
        "      amber_relaxer = relax.AmberRelaxation(max_iterations=0,tolerance=2.39,\n",
        "                                            stiffness=10.0,exclude_residues=[],\n",
        "                                            max_outer_iterations=20)      \n",
        "      relaxed_pdb_str, _, _ = amber_relaxer.process(prot=unrelaxed_protein)\n",
        "      relaxed_pdb_lines.append(relaxed_pdb_str)\n",
        "\n",
        "  # rerank models based on predicted lddt\n",
        "  lddt_rank = np.mean(plddts,-1).argsort()[::-1]\n",
        "  plddts_ranked = {}\n",
        "  for n,r in enumerate(lddt_rank):\n",
        "    print(f\"model_{n+1} {np.mean(plddts[r])}\")\n",
        "\n",
        "    unrelaxed_pdb_path = f'{prefix}_unrelaxed_model_{n+1}.pdb'    \n",
        "    with open(unrelaxed_pdb_path, 'w') as f: f.write(unrelaxed_pdb_lines[r])\n",
        "    set_bfactor(unrelaxed_pdb_path,plddts[r]/100)\n",
        "\n",
        "    if do_relax:\n",
        "      relaxed_pdb_path = f'{prefix}_relaxed_model_{n+1}.pdb'\n",
        "      with open(relaxed_pdb_path, 'w') as f: f.write(relaxed_pdb_lines[r])\n",
        "      set_bfactor(relaxed_pdb_path,plddts[r]/100)\n",
        "\n",
        "    plddts_ranked[f\"model_{n+1}\"] = plddts[r]\n",
        "\n",
        "  return plddts_ranked"
      ],
      "execution_count": null,
      "outputs": []
    },
    {
      "cell_type": "code",
      "metadata": {
        "colab": {
          "base_uri": "https://localhost:8080/"
        },
        "id": "1HK2SZ7sdQ_k",
        "cellView": "form",
        "outputId": "3bbf109f-42e4-41d5-f7ab-504279d4cc71"
      },
      "source": [
        "#@title Gather input features, predict structure\n",
        "# parse TEMPLATES\n",
        "if use_templates: template_features = mk_template(jobname)\n",
        "else: template_features = mk_mock_template(query_sequence)\n",
        "\n",
        "# parse MSA\n",
        "if use_msa:\n",
        "  a3m_lines = \"\".join(open(f\"{jobname}.a3m\",\"r\").readlines())\n",
        "elif use_custom_msa:\n",
        "  a3m_lines = \"\".join(open(f\"{jobname}.custom.a3m\",\"r\").readlines())\n",
        "else:\n",
        "  import shutil\n",
        "  shutil.copy2(f\"{jobname}.fasta\", f\"{jobname}.a3m\")\n",
        "  a3m_lines = \"\".join(open(f\"{jobname}.a3m\",\"r\").readlines())\n",
        "\n",
        "msa, deletion_matrix = pipeline.parsers.parse_a3m(a3m_lines)\n",
        "\n",
        "# gather features\n",
        "feature_dict = {\n",
        "    **pipeline.make_sequence_features(sequence=query_sequence,\n",
        "                                      description=\"none\",\n",
        "                                      num_res=len(query_sequence)),\n",
        "    **pipeline.make_msa_features(msas=[msa],deletion_matrices=[deletion_matrix]),\n",
        "    **template_features\n",
        "}\n",
        "plddts = predict_structure(jobname, feature_dict, do_relax=use_amber)"
      ],
      "execution_count": null,
      "outputs": [
        {
          "output_type": "stream",
          "text": [
            "running model_1\n",
            "running model_2\n",
            "running model_3\n",
            "running model_4\n",
            "running model_5\n",
            "model_1 94.80243882517104\n",
            "model_2 93.2293877008046\n",
            "model_3 92.44847979015745\n",
            "model_4 91.99132805045971\n",
            "model_5 90.98843823518486\n"
          ],
          "name": "stdout"
        }
      ]
    },
    {
      "cell_type": "code",
      "metadata": {
        "colab": {
          "base_uri": "https://localhost:8080/",
          "height": 387
        },
        "id": "nURyPZf5dSOc",
        "cellView": "form",
        "outputId": "541b6382-97a6-43aa-b182-9d271b7db419"
      },
      "source": [
        "#@title Plot lDDT per residue\n",
        "# confidence per position\n",
        "plt.figure(dpi=100)\n",
        "for model_name,value in plddts.items():\n",
        "  plt.plot(value,label=model_name)\n",
        "plt.legend()\n",
        "plt.ylim(0,100)\n",
        "plt.ylabel(\"predicted lDDT\")\n",
        "plt.xlabel(\"positions\")\n",
        "plt.savefig(jobname+\"_lDDT.png\")\n",
        "plt.show()"
      ],
      "execution_count": null,
      "outputs": [
        {
          "output_type": "display_data",
          "data": {
            "image/png": "[encoded data removed]",
            "text/plain": [
              "<Figure size 600x400 with 1 Axes>"
            ]
          },
          "metadata": {
            "tags": [],
            "needs_background": "light"
          }
        }
      ]
    },
    {
      "cell_type": "code",
      "metadata": {
        "colab": {
          "base_uri": "https://localhost:8080/",
          "height": 382
        },
        "id": "EQWSnB60dUC9",
        "cellView": "form",
        "outputId": "d1e4fbb2-6b82-4b48-e1a9-a12e69077a44"
      },
      "source": [
        "#@title Plot Number of Sequences per Position\n",
        "# confidence per position\n",
        "plt.figure(dpi=100)\n",
        "plt.plot((feature_dict[\"msa\"] != 21).sum(0))\n",
        "plt.xlabel(\"positions\")\n",
        "plt.ylabel(\"number of sequences\")\n",
        "plt.savefig(jobname+\"_msa_coverage.png\")\n",
        "plt.show()"
      ],
      "execution_count": null,
      "outputs": [
        {
          "output_type": "display_data",
          "data": {
            "image/png": "[encoded data removed]",
            "text/plain": [
              "<Figure size 600x400 with 1 Axes>"
            ]
          },
          "metadata": {
            "tags": [],
            "needs_background": "light"
          }
        }
      ]
    },
    {
      "cell_type": "code",
      "metadata": {
        "colab": {
          "base_uri": "https://localhost:8080/",
          "height": 642,
          "referenced_widgets": [
            "01c6c2df61094a368bbd85e9e0ee4001",
            "136eb7806cd548f6b9eaef7d01e570a9",
            "7ffbcb640d4c422eaf359b5ea5b49048",
            "ad77a18b7f814387ad5bc4125330ddc3",
            "31c4ca600ed54a178b1354fabd3f9f8a",
            "fcf2213e901e441c941f3be321b9620b",
            "9da6281759f1490ca545ac2c2189df46",
            "7b43143030d64d228fa0ce05caf62ca4",
            "4ea197b471bb4bcbb30a58948c020493",
            "8d46c7e1c3af42eebcb44d0412f775da",
            "e7283ecd53304977a0f208bbed5980f3",
            "f3c969a5d00b41bf93fcb3c402a1225c",
            "0371e886d0e947ccb410f6478bdc1176",
            "f550fedf28604b42ade79290f1bb2af2",
            "067d659251c84841b892770a017e52f9",
            "26ffb142383e4105890c16d0e701c6eb"
          ]
        },
        "id": "IphaTUENdVav",
        "cellView": "form",
        "outputId": "4130e8c6-fff3-4545-8df1-3b5a74e24525"
      },
      "source": [
        "#@title Show 3D structure\n",
        "def show_pdb(model_name,\n",
        "             show_sidechains=False,\n",
        "             show_mainchain=False,\n",
        "             color=\"None\"):\n",
        "\n",
        "  def mainchain(p, color=\"white\", model=0):\n",
        "    BB = ['C','O','N','CA']\n",
        "    p.addStyle({\"model\":model,'atom':BB},\n",
        "                       {'stick':{'colorscheme':f\"{color}Carbon\",'radius':0.4}})\n",
        "\n",
        "  def sidechain(p, model=0):\n",
        "    HP = [\"ALA\",\"GLY\",\"VAL\",\"ILE\",\"LEU\",\"PHE\",\"MET\",\"PRO\",\"TRP\",\"CYS\",\"TYR\"]\n",
        "    BB = ['C','O','N']\n",
        "    p.addStyle({\"model\":model,'and':[{'resn':HP},{'atom':BB,'invert':True}]},\n",
        "              {'stick':{'colorscheme':\"yellowCarbon\",'radius':0.4}})\n",
        "    p.addStyle({\"model\":model,'and':[{'resn':\"GLY\"},{'atom':'CA'}]},\n",
        "              {'sphere':{'colorscheme':\"yellowCarbon\",'radius':0.4}})\n",
        "    p.addStyle({\"model\":model,'and':[{'resn':\"PRO\"},{'atom':['C','O'],'invert':True}]},\n",
        "              {'stick':{'colorscheme':\"yellowCarbon\",'radius':0.4}})  \n",
        "    p.addStyle({\"model\":model,'and':[{'resn':HP,'invert':True},{'atom':BB,'invert':True}]},\n",
        "              {'stick':{'colorscheme':\"whiteCarbon\",'radius':0.4}})\n",
        "\n",
        "  if use_amber:\n",
        "    pdb_filename = f\"{jobname}_relaxed_{model_name}.pdb\"\n",
        "  else:\n",
        "    pdb_filename = f\"{jobname}_unrelaxed_{model_name}.pdb\"\n",
        "\n",
        "  p = py3Dmol.view(js='https://3dmol.org/build/3Dmol.js')\n",
        "  p.addModel(open(pdb_filename,'r').read(),'pdb')\n",
        "  if color == \"lDDT\":\n",
        "    p.setStyle({'cartoon': {'colorscheme': {'prop':'b','gradient': 'roygb','min':0,'max':1}}})\n",
        "  elif color == \"rainbow\":\n",
        "    p.setStyle({'cartoon': {'color':'spectrum'}})\n",
        "  else:\n",
        "    p.setStyle({'cartoon':{}})\n",
        "\n",
        "  if show_sidechains: sidechain(p)\n",
        "  if show_mainchain: mainchain(p)\n",
        "  p.zoomTo()\n",
        "  return p.show()\n",
        "\n",
        "interact(show_pdb,\n",
        "         model_name=ipywidgets.Dropdown(options=model_params.keys(), value='model_1'),\n",
        "         show_sidechains=ipywidgets.Checkbox(value=False),\n",
        "         show_mainchain=ipywidgets.Checkbox(value=False),\n",
        "         color=ipywidgets.Dropdown(options=['None', 'rainbow', 'lDDT'], value='lDDT'))"
      ],
      "execution_count": null,
      "outputs": [
        {
          "output_type": "display_data",
          "data": {
            "application/vnd.jupyter.widget-view+json": {
              "model_id": "01c6c2df61094a368bbd85e9e0ee4001",
              "version_minor": 0,
              "version_major": 2
            },
            "text/plain": [
              "interactive(children=(Dropdown(description='model_name', options=('model_1', 'model_2', 'model_3', 'model_4', …"
            ]
          },
          "metadata": {
            "tags": []
          }
        },
        {
          "output_type": "execute_result",
          "data": {
            "text/plain": [
              "<function __main__.show_pdb>"
            ]
          },
          "metadata": {
            "tags": []
          },
          "execution_count": 8
        }
      ]
    },
    {
      "cell_type": "code",
      "metadata": {
        "colab": {
          "base_uri": "https://localhost:8080/",
          "height": 170
        },
        "id": "iAwPFliVdW5h",
        "cellView": "form",
        "outputId": "7cf20a4a-fd7f-411b-c8ed-a9e259539de9"
      },
      "source": [
        "#@title Download result\n",
        "!zip $jobname\".result.zip\" $jobname\".log\" $jobname\".a3m\" $jobname\"_msa_coverage.png\" $jobname\"_\"*\"relaxed_model_\"*\".pdb\" $jobname\"_lDDT.png\"\n",
        "files.download(f\"{jobname}.result.zip\")"
      ],
      "execution_count": null,
      "outputs": [
        {
          "output_type": "stream",
          "text": [
            "updating: RL30_ECOLI.log (deflated 18%)\n",
            "updating: RL30_ECOLI.a3m (deflated 65%)\n",
            "updating: RL30_ECOLI_unrelaxed_model_1.pdb (deflated 78%)\n",
            "updating: RL30_ECOLI_unrelaxed_model_2.pdb (deflated 78%)\n",
            "updating: RL30_ECOLI_unrelaxed_model_3.pdb (deflated 78%)\n",
            "updating: RL30_ECOLI_unrelaxed_model_4.pdb (deflated 78%)\n",
            "updating: RL30_ECOLI_unrelaxed_model_5.pdb (deflated 78%)\n",
            "updating: RL30_ECOLI_lDDT.png (deflated 7%)\n",
            "updating: RL30_ECOLI_msa_coverage.png (deflated 10%)\n"
          ],
          "name": "stdout"
        },
        {
          "output_type": "display_data",
          "data": {
            "application/javascript": [
              "\n",
              "    async function download(id, filename, size) {\n",
              "      if (!google.colab.kernel.accessAllowed) {\n",
              "        return;\n",
              "      }\n",
              "      const div = document.createElement('div');\n",
              "      const label = document.createElement('label');\n",
              "      label.textContent = `Downloading \"${filename}\": `;\n",
              "      div.appendChild(label);\n",
              "      const progress = document.createElement('progress');\n",
              "      progress.max = size;\n",
              "      div.appendChild(progress);\n",
              "      document.body.appendChild(div);\n",
              "\n",
              "      const buffers = [];\n",
              "      let downloaded = 0;\n",
              "\n",
              "      const channel = await google.colab.kernel.comms.open(id);\n",
              "      // Send a message to notify the kernel that we're ready.\n",
              "      channel.send({})\n",
              "\n",
              "      for await (const message of channel.messages) {\n",
              "        // Send a message to notify the kernel that we're ready.\n",
              "        channel.send({})\n",
              "        if (message.buffers) {\n",
              "          for (const buffer of message.buffers) {\n",
              "            buffers.push(buffer);\n",
              "            downloaded += buffer.byteLength;\n",
              "            progress.value = downloaded;\n",
              "          }\n",
              "        }\n",
              "      }\n",
              "      const blob = new Blob(buffers, {type: 'application/binary'});\n",
              "      const a = document.createElement('a');\n",
              "      a.href = window.URL.createObjectURL(blob);\n",
              "      a.download = filename;\n",
              "      div.appendChild(a);\n",
              "      a.click();\n",
              "      div.remove();\n",
              "    }\n",
              "  "
            ],
            "text/plain": [
              "<IPython.core.display.Javascript object>"
            ]
          },
          "metadata": {
            "tags": []
          }
        },
        {
          "output_type": "display_data",
          "data": {
            "application/javascript": [
              "download(\"download_e0239983-f473-4b3a-a998-8a93bf5927b3\", \"RL30_ECOLI.result.zip\", 186570)"
            ],
            "text/plain": [
              "<IPython.core.display.Javascript object>"
            ]
          },
          "metadata": {
            "tags": []
          }
        }
      ]
    },
    {
      "cell_type": "markdown",
      "metadata": {
        "id": "fZ1dQeflEkUl"
      },
      "source": [
        "# Instructions\n",
        "- If you are having issues downloading results, try disable adblocker and run the last cell again. If that fails click on the little folder icon to the left, navigate to file:`jobname.result.zip`, right-click and select \"download\"."
      ]
    }
  ]
}